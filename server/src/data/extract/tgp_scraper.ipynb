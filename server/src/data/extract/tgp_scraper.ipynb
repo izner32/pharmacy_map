{
 "cells": [
  {
   "cell_type": "markdown",
   "metadata": {},
   "source": [
    "# FIND DRUGSTORE/PHARMACY OF TGP"
   ]
  },
  {
   "cell_type": "markdown",
   "metadata": {},
   "source": [
    "#### Import necessary libraries"
   ]
  },
  {
   "cell_type": "code",
   "execution_count": 6,
   "metadata": {},
   "outputs": [
    {
     "data": {
      "text/plain": [
       "True"
      ]
     },
     "execution_count": 6,
     "metadata": {},
     "output_type": "execute_result"
    }
   ],
   "source": [
    "# for scraping \n",
    "from bs4 import BeautifulSoup as bs\n",
    "import xlsxwriter\n",
    "\n",
    "# misc\n",
    "import re as re # regex \n",
    "import time\n",
    "import pandas as pd\n",
    "\n",
    "# accesing env file \n",
    "import os \n",
    "from dotenv import load_dotenv # to access the secret keys we've hidden in a separate file \n",
    "load_dotenv() # grab values inside env file"
   ]
  },
  {
   "cell_type": "markdown",
   "metadata": {},
   "source": [
    "#### TGP Setup"
   ]
  },
  {
   "cell_type": "code",
   "execution_count": 7,
   "metadata": {},
   "outputs": [],
   "source": [
    "# STEP 1: https://tgp.com.ph/branches/\n",
    "# STEP 2: inspect element > set value of 500 KM to 500000 to grab all of the data from all tgp branches > select 500 km then click search\n",
    "# STEP 3: grab the parent element for list of branches > edit html element > select all > copy the source code > use that source code with beautiful soup to extract useful information"
   ]
  },
  {
   "cell_type": "markdown",
   "metadata": {},
   "source": [
    "#### Web Scraping Process"
   ]
  },
  {
   "cell_type": "code",
   "execution_count": 8,
   "metadata": {},
   "outputs": [],
   "source": [
    "# Creating lists\n",
    "branch_name = []\n",
    "branch_address = []\n",
    "branch_city = []\n",
    "branch_phone = []\n",
    "\n",
    "def tgp_branches_scrape(): \n",
    "    # read extracted soure code\n",
    "    with open('../source_code/tgp_source_code.html', 'r') as f:\n",
    "        tgp_html = f.read()\n",
    "\n",
    "    linkedin_soup = bs(tgp_html.encode(\"utf-8\"), \"html\")\n",
    "    linkedin_soup.prettify()\n",
    "    branches = linkedin_soup.findAll(\"div\",{\"class\":\"store-locator-item\"})\n",
    "    \n",
    "    for branch in branches:\n",
    "        try:\n",
    "            branch_box = branch.find(\"div\",{\"class\":\"store-list-address\"})\n",
    "            branch_name_value = branch_box.find(\"div\",{\"class\":\"wpsl-name\"}).get_text()\n",
    "            branch_address_value = branch_box.find(\"div\",{\"class\":\"wpsl-address\"}).get_text()\n",
    "            branch_city_value = branch_box.find(\"div\",{\"class\":\"wpsl-city\"}).get_text()\n",
    "            branch_phone_box = branch_box.find(\"div\",{\"class\":\"wpsl-phone\"})\n",
    "            if (branch_phone_box != None):\n",
    "                branch_phone_value = branch_phone_box.find(\"a\",{\"class\":False}).get_text()\n",
    "            else:\n",
    "                branch_phone_value = 0\n",
    "\n",
    "            branch_name.append(branch_name_value)\n",
    "            branch_address.append(branch_address_value)\n",
    "            branch_city.append(branch_city_value)\n",
    "            branch_phone.append(branch_phone_value)\n",
    "\n",
    "        except:\n",
    "            print(\"There is an error fetching tgp branch\")     "
   ]
  },
  {
   "cell_type": "markdown",
   "metadata": {},
   "source": [
    "#### Execute scraping"
   ]
  },
  {
   "cell_type": "code",
   "execution_count": 9,
   "metadata": {},
   "outputs": [],
   "source": [
    "tgp_branches_scrape()"
   ]
  },
  {
   "cell_type": "markdown",
   "metadata": {},
   "source": [
    "#### Storing scraped data into specified file format"
   ]
  },
  {
   "cell_type": "code",
   "execution_count": null,
   "metadata": {},
   "outputs": [],
   "source": [
    "data = {\n",
    "    \"Name\": branch_name,\n",
    "    \"Address\": branch_address,\n",
    "    \"City\": branch_city,\n",
    "    \"Phone\": branch_phone\n",
    "}\n",
    "\n",
    "# save to csv \n",
    "# df = pd.DataFrame(data)\n",
    "# df.head(5)\n",
    "# df.to_csv(\"user_posts.csv\", encoding='utf-8', index=False)\n",
    "\n",
    "# save to excel \n",
    "df = pd.DataFrame(data)\n",
    "writer = pd.ExcelWriter(\"../data/tgp.xlsx\", engine='xlsxwriter')\n",
    "df.to_excel(writer, index =False)\n",
    "writer.save()"
   ]
  }
 ],
 "metadata": {
  "interpreter": {
   "hash": "bfb4883d108fc92ac768439090a2e92bb9a1f760a54beeecfd6762b5dcd70fe3"
  },
  "kernelspec": {
   "display_name": "Python 3.10.0 64-bit",
   "language": "python",
   "name": "python3"
  },
  "language_info": {
   "codemirror_mode": {
    "name": "ipython",
    "version": 3
   },
   "file_extension": ".py",
   "mimetype": "text/x-python",
   "name": "python",
   "nbconvert_exporter": "python",
   "pygments_lexer": "ipython3",
   "version": "3.10.0"
  },
  "orig_nbformat": 4
 },
 "nbformat": 4,
 "nbformat_minor": 2
}
