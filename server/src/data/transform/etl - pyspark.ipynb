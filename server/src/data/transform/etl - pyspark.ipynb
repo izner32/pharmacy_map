{
 "cells": [
  {
   "cell_type": "markdown",
   "metadata": {},
   "source": [
    "#### INSTALL SPARK"
   ]
  },
  {
   "cell_type": "code",
   "execution_count": 1,
   "metadata": {
    "scrolled": true
   },
   "outputs": [
    {
     "data": {
      "text/plain": [
       "'C:\\\\spark-3.2.0-bin-hadoop3.2'"
      ]
     },
     "execution_count": 1,
     "metadata": {},
     "output_type": "execute_result"
    }
   ],
   "source": [
    "# install conda,spark,java,winutils and set correct environment varaibles - https://www.youtube.com/watch?v=DznteGdeJoA\n",
    "import findspark \n",
    "findspark.init()\n",
    "findspark.find()"
   ]
  },
  {
   "cell_type": "code",
   "execution_count": 2,
   "metadata": {},
   "outputs": [],
   "source": [
    "from pyspark.sql import SparkSession\n",
    "from pyspark.sql.functions import isnan, when, count, col, lit, trim, ltrim, rtrim, split, regexp_extract, expr, coalesce\n",
    "\n",
    "# entry point for spark's dataframes\n",
    "spark = SparkSession.builder \\\n",
    "    .master(\"local\") \\\n",
    "    .appName(\"pharmacy scraper\") \\\n",
    "    .config(\"spark.jars.packages\", \"com.crealytics:spark-excel_2.12:3.2.0_0.16.0\") \\\n",
    "    .config(\"spark.sql.extensions\", \"org.apache.iceberg.spark.extensions.IcebergSparkSessionExtensions\") \\\n",
    "    .getOrCreate()"
   ]
  },
  {
   "cell_type": "code",
   "execution_count": 3,
   "metadata": {},
   "outputs": [
    {
     "data": {
      "text/html": [
       "\n",
       "            <div>\n",
       "                <p><b>SparkSession - in-memory</b></p>\n",
       "                \n",
       "        <div>\n",
       "            <p><b>SparkContext</b></p>\n",
       "\n",
       "            <p><a href=\"http://host.docker.internal:4040\">Spark UI</a></p>\n",
       "\n",
       "            <dl>\n",
       "              <dt>Version</dt>\n",
       "                <dd><code>v3.2.0</code></dd>\n",
       "              <dt>Master</dt>\n",
       "                <dd><code>local</code></dd>\n",
       "              <dt>AppName</dt>\n",
       "                <dd><code>pharmacy scraper</code></dd>\n",
       "            </dl>\n",
       "        </div>\n",
       "        \n",
       "            </div>\n",
       "        "
      ],
      "text/plain": [
       "<pyspark.sql.session.SparkSession at 0x132f6872f70>"
      ]
     },
     "execution_count": 3,
     "metadata": {},
     "output_type": "execute_result"
    }
   ],
   "source": [
    "spark"
   ]
  },
  {
   "cell_type": "markdown",
   "metadata": {},
   "source": [
    "### 1. DATA CLEANSING - transform data in such a way that each branch represents a single row"
   ]
  },
  {
   "cell_type": "markdown",
   "metadata": {},
   "source": [
    "#### EXTRACT"
   ]
  },
  {
   "cell_type": "code",
   "execution_count": 4,
   "metadata": {},
   "outputs": [],
   "source": [
    "# convert excel file into spark's dataframe \n",
    "df_generika = spark.read.format(\"com.crealytics.spark.excel\").option(\"header\", \"true\").option(\"inferSchema\", \"true\").option(\"dataAddress\", \"Sheet1\").load(\"./../data/raw-data/generika.xlsx\")\n",
    "df_tgp = spark.read.format(\"com.crealytics.spark.excel\").option(\"header\", \"true\").option(\"inferSchema\", \"true\").option(\"dataAddress\", \"Sheet1\").load(\"./../data/raw-data/tgp.xlsx\")\n",
    "df_watsons = spark.read.format(\"com.crealytics.spark.excel\").option(\"header\", \"true\").option(\"inferSchema\", \"true\").option(\"dataAddress\", \"Sheet1\").load(\"./../data/raw-data/watsons.xlsx\")\n",
    "\n",
    "df_rose_luzon = spark.read.format(\"com.crealytics.spark.excel\").option(\"header\", \"true\").option(\"inferSchema\", \"true\").option(\"dataAddress\", \"Sheet1\").load(\"./../data/raw-data/rosepharmacy - luzon.xlsx\")\n",
    "df_rose_visayas = spark.read.format(\"com.crealytics.spark.excel\").option(\"header\", \"true\").option(\"inferSchema\", \"true\").option(\"dataAddress\", \"Sheet1\").load(\"./../data/raw-data/rosepharmacy - visayas.xlsx\")\n",
    "df_rose_mindanao = spark.read.format(\"com.crealytics.spark.excel\").option(\"header\", \"true\").option(\"inferSchema\", \"true\").option(\"dataAddress\", \"Sheet1\").load(\"./../data/raw-data/rosepharmacy - mindanao.xlsx\")\n",
    "\n",
    "df_mercury_luzon = spark.read.format(\"com.crealytics.spark.excel\").option(\"header\", \"true\").option(\"inferSchema\", \"true\").option(\"dataAddress\", \"Sheet1\").load(\"./../data/raw-data/mercury - luzon.xlsx\")\n",
    "df_mercury_metro_manila = spark.read.format(\"com.crealytics.spark.excel\").option(\"header\", \"true\").option(\"inferSchema\", \"true\").option(\"dataAddress\", \"Sheet1\").load(\"./../data/raw-data/mercury - metro manila.xlsx\")\n",
    "df_mercury_visayas = spark.read.format(\"com.crealytics.spark.excel\").option(\"header\", \"true\").option(\"inferSchema\", \"true\").option(\"dataAddress\", \"Sheet1\").load(\"./../data/raw-data/mercury - visayas.xlsx\")\n",
    "df_mercury_mindanao = spark.read.format(\"com.crealytics.spark.excel\").option(\"header\", \"true\").option(\"inferSchema\", \"true\").option(\"dataAddress\", \"Sheet1\").load(\"./../data/raw-data/mercury - mindanao.xlsx\")\n",
    "\n",
    "df_ssd_name = spark.read.format(\"com.crealytics.spark.excel\").option(\"header\", \"true\").option(\"inferSchema\", \"true\").option(\"dataAddress\", \"Sheet1\").load(\"./../data/raw-data/ssd-name.xlsx\")\n",
    "df_ssd_others = spark.read.format(\"com.crealytics.spark.excel\").option(\"header\", \"true\").option(\"inferSchema\", \"true\").option(\"dataAddress\", \"Sheet1\").load(\"./../data/raw-data/ssd-address_storeHours_phone_removeHrTag.xlsx\")"
   ]
  },
  {
   "cell_type": "markdown",
   "metadata": {},
   "source": [
    "#### TRANSFORM generika"
   ]
  },
  {
   "cell_type": "code",
   "execution_count": 5,
   "metadata": {},
   "outputs": [
    {
     "name": "stdout",
     "output_type": "stream",
     "text": [
      "+--------------------+-------------------+--------------------+--------------------+\n",
      "|       store-address| store-address href|     store-address 2|        store-holder|\n",
      "+--------------------+-------------------+--------------------+--------------------+\n",
      "|                null|               null|                null|                null|\n",
      "|CVT BACOOR E. ST....|javascript:void(0);|Evangelista Stree...|0917-8624935 / 43...|\n",
      "|LGN STAROSA BALIBAGO|javascript:void(0);|1360 Old National...|        0917-8808883|\n",
      "|           NAGA CITY|javascript:void(0);|622 Penafrancia A...|0917-8718924 / 05...|\n",
      "|   BATS RIZAL AVENUE|javascript:void(0);|9 Rizal Avenue, B...|0917-8415926 / 04...|\n",
      "|                    |                   |                    |                    |\n",
      "|   QUEZON, CATANAUAN|javascript:void(0);|Rayo de Sol Bldg....|        0917-8600313|\n",
      "|  CVT DASMA DISTRICT|javascript:void(0);|Space No. LG-20, ...|0917-8632302 / 04...|\n",
      "| BATS ROSARIO QUILIB|javascript:void(0);|Medical Expert Bl...|0917-6537444 / 04...|\n",
      "|     CAMSUR BATO LCC|javascript:void(0);|Market Site, Brgy...|        0917-8940065|\n",
      "|                    |                   |                    |                    |\n",
      "|CAMSUR NAGA IGUALDAD|javascript:void(0);|TGB Bldg., Iguald...|0917-8444280 / 05...|\n",
      "|   BACOOR MOLINO RFC|javascript:void(0);|Molino 2, Bacoor ...|        0917-8365290|\n",
      "|  CAMSUR LAGONOY LCC|javascript:void(0);|Brgy. Sta. Maria,...|        0917-8376353|\n",
      "| DASMA PALIPARAN PH3|javascript:void(0);|Phase 3 Block 112...|0917-5043871 / 09...|\n",
      "|                    |                   |                    |                    |\n",
      "| LGN PAGSANJAN RIZAL|javascript:void(0);|Casa De Ida Bldg....|        0917-8392092|\n",
      "|BTG TANAUAN DARAS...|javascript:void(0);|No. 0489, Boot, T...|        0917-8089986|\n",
      "|     CAMSUR NAGA LCC|javascript:void(0);|Villa Grande Home...|        0917-8359954|\n",
      "|LAG STA.CRUZ BUBUKAL|javascript:void(0);|National Highway,...|        0917-8392085|\n",
      "+--------------------+-------------------+--------------------+--------------------+\n",
      "only showing top 20 rows\n",
      "\n"
     ]
    }
   ],
   "source": [
    "# quick inspection of generika's dataframe\n",
    "df_generika.createOrReplaceTempView(\"generika\")\n",
    "initial_inspect = spark.sql(\"SELECT * FROM generika\")\n",
    "\n",
    "initial_inspect.show()"
   ]
  },
  {
   "cell_type": "code",
   "execution_count": 6,
   "metadata": {},
   "outputs": [
    {
     "name": "stdout",
     "output_type": "stream",
     "text": [
      "+-------------+------------------+---------------+------------+\n",
      "|store-address|store-address href|store-address 2|store-holder|\n",
      "+-------------+------------------+---------------+------------+\n",
      "|            4|                 4|              4|           4|\n",
      "|            0|                 0|              0|           0|\n",
      "|          200|               200|            200|         312|\n",
      "+-------------+------------------+---------------+------------+\n",
      "\n"
     ]
    }
   ],
   "source": [
    "# show additional information - total Null, NaN, and Empty Values\n",
    "null_values = df_generika.select([count(when(col(c).isNull(), c)).alias(c) for c in df_generika.columns])\n",
    "nan_values = df_generika.select([count(when(isnan(c), c)).alias(c) for c in df_generika.columns])\n",
    "empty_values = df_generika.select([count(when(col(c) == \"\", c)).alias(c) for c in df_generika.columns])\n",
    "\n",
    "append = null_values.union(nan_values).union(empty_values)\n",
    "append.show()"
   ]
  },
  {
   "cell_type": "code",
   "execution_count": 7,
   "metadata": {},
   "outputs": [
    {
     "name": "stdout",
     "output_type": "stream",
     "text": [
      "+---+--------------------+--------------------+--------+\n",
      "|Row|             Address|             Contact|    Name|\n",
      "+---+--------------------+--------------------+--------+\n",
      "|  1|Evangelista Stree...|0917-8624935 / 43...|Generika|\n",
      "|  2|1360 Old National...|        0917-8808883|Generika|\n",
      "|  3|622 Penafrancia A...|0917-8718924 / 05...|Generika|\n",
      "|  4|9 Rizal Avenue, B...|0917-8415926 / 04...|Generika|\n",
      "|  5|Rayo de Sol Bldg....|        0917-8600313|Generika|\n",
      "|  6|Space No. LG-20, ...|0917-8632302 / 04...|Generika|\n",
      "|  7|Medical Expert Bl...|0917-6537444 / 04...|Generika|\n",
      "|  8|Market Site, Brgy...|        0917-8940065|Generika|\n",
      "|  9|TGB Bldg., Iguald...|0917-8444280 / 05...|Generika|\n",
      "| 10|Molino 2, Bacoor ...|        0917-8365290|Generika|\n",
      "| 11|Brgy. Sta. Maria,...|        0917-8376353|Generika|\n",
      "| 12|Phase 3 Block 112...|0917-5043871 / 09...|Generika|\n",
      "| 13|Casa De Ida Bldg....|        0917-8392092|Generika|\n",
      "| 14|No. 0489, Boot, T...|        0917-8089986|Generika|\n",
      "| 15|Villa Grande Home...|        0917-8359954|Generika|\n",
      "| 16|National Highway,...|        0917-8392085|Generika|\n",
      "| 17|BRGY. STA. ANASTA...|        0917-8118253|Generika|\n",
      "| 18|30 San Jose Stree...|                   0|Generika|\n",
      "| 19|CORNER BONIFACIO ...|                   0|Generika|\n",
      "| 20|No. 11 Brgy. Taga...|0917-8463376 / 04...|Generika|\n",
      "+---+--------------------+--------------------+--------+\n",
      "only showing top 20 rows\n",
      "\n"
     ]
    }
   ],
   "source": [
    "# remove - useless column from the selection, null rows, empty row | note: update and delete isn't supported in spark\n",
    "remove_cleaning_generika = spark.sql(\"\"\"\n",
    "    SELECT ROW_NUMBER() OVER (ORDER BY (SELECT 1)) AS row,`store-address 2`, `store-holder` \n",
    "    FROM generika \n",
    "    WHERE `store-address` IS NOT NULL AND NOT `store-address` = \"\"\n",
    "\"\"\")\n",
    "\n",
    "# add new column - store name \n",
    "add_name_cleaning_generika = remove_cleaning_generika.withColumn(\"Name\", lit(\"Generika\"))\n",
    "\n",
    "# fill na values for phone with 0 | note: update and delete isn't supported in spark - so we have to do them with spark's rdd\n",
    "fill_null_cleaning_generika = add_name_cleaning_generika.rdd.map(lambda row: (row[0], row[1], 0 if row[2] == \"\" else row[2], row[3]))\n",
    "fill_null_cleaning_generika.collect()\n",
    "\n",
    "# create a new tempview from the cleaned dataframe \n",
    "cleaned_generika = fill_null_cleaning_generika.toDF([\"Row\",\"Address\",\"Contact\", \"Name\"])\n",
    "cleaned_generika.select(\"Row\",\"Address\",\"Contact\",\"Name\").show()\n",
    "cleaned_generika.createOrReplaceTempView(\"cleaned_generika\")"
   ]
  },
  {
   "cell_type": "code",
   "execution_count": 8,
   "metadata": {},
   "outputs": [
    {
     "name": "stdout",
     "output_type": "stream",
     "text": [
      "+---+-------+-------+----+\n",
      "|Row|Address|Contact|Name|\n",
      "+---+-------+-------+----+\n",
      "|  0|      0|      0|   0|\n",
      "|  0|      0|      0|   0|\n",
      "|  0|      0|      0|   0|\n",
      "+---+-------+-------+----+\n",
      "\n"
     ]
    }
   ],
   "source": [
    "# final inspection for generika \n",
    "null_values = cleaned_generika.select([count(when(col(c).isNull(), c)).alias(c) for c in cleaned_generika.columns])\n",
    "nan_values = cleaned_generika.select([count(when(isnan(c), c)).alias(c) for c in cleaned_generika.columns])\n",
    "empty_values = cleaned_generika.select([count(when(col(c) == \"\", c)).alias(c) for c in cleaned_generika.columns])\n",
    "\n",
    "final_inspect = null_values.union(nan_values).union(empty_values)\n",
    "final_inspect.show()"
   ]
  },
  {
   "cell_type": "markdown",
   "metadata": {},
   "source": [
    "#### TRANSFORM tgp"
   ]
  },
  {
   "cell_type": "code",
   "execution_count": 9,
   "metadata": {},
   "outputs": [
    {
     "name": "stdout",
     "output_type": "stream",
     "text": [
      "+--------------------+--------------------+--------------------+------------+\n",
      "|                Name|             Address|                City|       Phone|\n",
      "+--------------------+--------------------+--------------------+------------+\n",
      "|TGP The Generics ...|Osmena St. Poblac...|   North Cotabato,  |0917-7040504|\n",
      "|TGP The Generics ...|Poblacion Carmen,...|   North Cotabato,  |           0|\n",
      "|TGP The Generics ...|Poblacion Datu Od...|      Maguindanao,  |  9069743889|\n",
      "|TGP The Generics ...|Mabini Corner E. ...|   South Cotabato,  |  9437025959|\n",
      "|TGP The Generics ...|Orocio Bldg., Alu...|   South Cotabato,  |  9228302752|\n",
      "|TGP The Generics ...|Poblacion 8 Midsa...|   North Cotabato,  |     5230357|\n",
      "|TGP The Generics ...|Rizal Avenue, Pob...|   North Cotabato,  |   645726748|\n",
      "|TGP The Generics ...|Poblacion 8 Midsa...|   North Cotabato,  |     5230357|\n",
      "|TGP The Generics ...|Prk. 5 Poblacion ...|Compostela Valley,  |  9357984426|\n",
      "|TGP The Generics ...|Cor. Rizal & Arel...|  Davao Del Norte,  |  9172051698|\n",
      "|TGP The Generics ...|Stall 112 2 Store...|  Davao Del Norte,  |  9273926022|\n",
      "|TGP The Generics ...|Blk. 6 Stall B Pu...|Compostela Valley,  |  9055883230|\n",
      "|TGP The Generics ...|Dr. 3 Laureano Pe...|  Davao Del Norte,  | 91553633275|\n",
      "|TGP The Generics ...|P-13 Poblacion Na...|Compostela Valley,  |  9173433979|\n",
      "|TGP The Generics ...|Bldg. No. 4, Stal...|  Davao Del Norte,  |  9277314980|\n",
      "|TGP The Generics ...|B-1 Prk.11-A Fil-...|   South Cotabato,  |           0|\n",
      "|TGP The Generics ...|Dreamland Subd Ma...|   South Cotabato,  |           0|\n",
      "|TGP The Generics ...|Poblacion, Malapa...|        Sarangani,  |  9124856133|\n",
      "|TGP The Generics ...|Emelio Alegado St...|        Sarangani,  |  9501454967|\n",
      "|TGP The Generics ...|Purok 7 New Socie...|   South Cotabato,  |           0|\n",
      "+--------------------+--------------------+--------------------+------------+\n",
      "only showing top 20 rows\n",
      "\n"
     ]
    }
   ],
   "source": [
    "# quick inspection of tgp's dataframe\n",
    "df_tgp.createOrReplaceTempView(\"tgp\")\n",
    "initial_inspect = spark.sql(\"SELECT * FROM tgp\")\n",
    "\n",
    "initial_inspect.show()"
   ]
  },
  {
   "cell_type": "code",
   "execution_count": 10,
   "metadata": {},
   "outputs": [
    {
     "name": "stdout",
     "output_type": "stream",
     "text": [
      "+----+-------+----+-----+\n",
      "|Name|Address|City|Phone|\n",
      "+----+-------+----+-----+\n",
      "|   0|      0|   0|    0|\n",
      "|   0|      0|   0|    0|\n",
      "|   0|      0|   0|    0|\n",
      "+----+-------+----+-----+\n",
      "\n"
     ]
    }
   ],
   "source": [
    "# show additional information - total Null, NaN, and Empty Values\n",
    "null_values = df_tgp.select([count(when(col(c).isNull(), c)).alias(c) for c in df_tgp.columns])\n",
    "nan_values = df_tgp.select([count(when(isnan(c), c)).alias(c) for c in df_tgp.columns])\n",
    "empty_values = df_tgp.select([count(when(col(c) == \"\", c)).alias(c) for c in df_tgp.columns])\n",
    "\n",
    "append = null_values.union(nan_values).union(empty_values)\n",
    "append.show()"
   ]
  },
  {
   "cell_type": "code",
   "execution_count": 11,
   "metadata": {},
   "outputs": [
    {
     "name": "stdout",
     "output_type": "stream",
     "text": [
      "+---+--------------------+------------+--------------------+\n",
      "|Row|             Address|     Contact|                Name|\n",
      "+---+--------------------+------------+--------------------+\n",
      "|  1|Osmena St. Poblac...|0917-7040504|The Generics Phar...|\n",
      "|  2|Poblacion Carmen,...|           0|The Generics Phar...|\n",
      "|  3|Poblacion Datu Od...|  9069743889|The Generics Phar...|\n",
      "|  4|Mabini Corner E. ...|  9437025959|The Generics Phar...|\n",
      "|  5|Orocio Bldg., Alu...|  9228302752|The Generics Phar...|\n",
      "|  6|Poblacion 8 Midsa...|     5230357|The Generics Phar...|\n",
      "|  7|Rizal Avenue, Pob...|   645726748|The Generics Phar...|\n",
      "|  8|Poblacion 8 Midsa...|     5230357|The Generics Phar...|\n",
      "|  9|Prk. 5 Poblacion ...|  9357984426|The Generics Phar...|\n",
      "| 10|Cor. Rizal & Arel...|  9172051698|The Generics Phar...|\n",
      "| 11|Stall 112 2 Store...|  9273926022|The Generics Phar...|\n",
      "| 12|Blk. 6 Stall B Pu...|  9055883230|The Generics Phar...|\n",
      "| 13|Dr. 3 Laureano Pe...| 91553633275|The Generics Phar...|\n",
      "| 14|P-13 Poblacion Na...|  9173433979|The Generics Phar...|\n",
      "| 15|Bldg. No. 4, Stal...|  9277314980|The Generics Phar...|\n",
      "| 16|B-1 Prk.11-A Fil-...|           0|The Generics Phar...|\n",
      "| 17|Dreamland Subd Ma...|           0|The Generics Phar...|\n",
      "| 18|Poblacion, Malapa...|  9124856133|The Generics Phar...|\n",
      "| 19|Emelio Alegado St...|  9501454967|The Generics Phar...|\n",
      "| 20|Purok 7 New Socie...|           0|The Generics Phar...|\n",
      "+---+--------------------+------------+--------------------+\n",
      "only showing top 20 rows\n",
      "\n"
     ]
    }
   ],
   "source": [
    "# remove city \n",
    "remove_cleaning_tgp = spark.sql(\"\"\"\n",
    "    SELECT ROW_NUMBER() OVER (ORDER BY (SELECT 1)) AS Row, Address, Phone as Contact\n",
    "    FROM tgp\n",
    "\"\"\")\n",
    "\n",
    "cleaned_tgp = remove_cleaning_tgp\n",
    "cleaned_tgp = cleaned_tgp.withColumn(\"Name\", lit(\"The Generics Pharmacy\"))\n",
    "cleaned_tgp.show()"
   ]
  },
  {
   "cell_type": "code",
   "execution_count": 12,
   "metadata": {},
   "outputs": [
    {
     "name": "stdout",
     "output_type": "stream",
     "text": [
      "+---+-------+-------+----+\n",
      "|Row|Address|Contact|Name|\n",
      "+---+-------+-------+----+\n",
      "|  0|      0|      0|   0|\n",
      "|  0|      0|      0|   0|\n",
      "|  0|      0|      0|   0|\n",
      "+---+-------+-------+----+\n",
      "\n"
     ]
    }
   ],
   "source": [
    "# final inspection for tgp\n",
    "null_values = cleaned_tgp.select([count(when(col(c).isNull(), c)).alias(c) for c in cleaned_tgp.columns])\n",
    "nan_values = cleaned_tgp.select([count(when(isnan(c), c)).alias(c) for c in cleaned_tgp.columns])\n",
    "empty_values = cleaned_tgp.select([count(when(col(c) == \"\", c)).alias(c) for c in cleaned_tgp.columns])\n",
    "\n",
    "final_inspect = null_values.union(nan_values).union(empty_values)\n",
    "final_inspect.show()"
   ]
  },
  {
   "cell_type": "markdown",
   "metadata": {},
   "source": [
    "#### TRANSFORM watsons"
   ]
  },
  {
   "cell_type": "code",
   "execution_count": 13,
   "metadata": {},
   "outputs": [
    {
     "name": "stdout",
     "output_type": "stream",
     "text": [
      "+-----------+--------------------+--------------------+--------------------+--------------------+--------------------+\n",
      "|store-order|          store-name|             address|                time|                 tel|            tel href|\n",
      "+-----------+--------------------+--------------------+--------------------+--------------------+--------------------+\n",
      "|          1|WATSONS SM CUBAO ...|Quezon City, UGF ...|FRI-SAT  10:00 AM...|(02) 8-911-3661 /...|tel:(02) 8-911-36...|\n",
      "|          2|WATSONS SM QUIAPO...|Manila City, UGF ...|MON-SUN  10:00 AM...|(02) 8-733-8416 t...|tel:(02) 8-733-84...|\n",
      "|          3|WATSONS SM MAKATI...|Makati City, UGF ...|FRI-SAT  10:00 AM...|(02) 8-816-6421 /...|tel:(02) 8-816-64...|\n",
      "|          4|WATSONS SM CITY C...|Quezon City, UGF ...|MON-SUN  10:00 AM...|     (02) 8-716-3718| tel:(02) 8-716-3718|\n",
      "|          5|WATSONS SM CITY N...|Quezon City, UGF ...|MON-SUN  10:00 AM...|(02) 3-453-3154 /...|tel:(02) 3-453-31...|\n",
      "|          6|WATSONS SM MEGAMA...|Mandaluyong City,...|MON-SUN  10:00 AM...|     (02) 8-687-4296| tel:(02) 8-687-4296|\n",
      "|          7|WATSONS SM BACOOR...|Cavite, UGF SM Ci...|MON-SUN  10:00 AM...|(046) 417-0869 / ...|tel:(046) 417-086...|\n",
      "|          8|WATSONS SM CITY F...|Quezon City, UGF ...|MON-SUN  10:00 AM...|(02) 3-417-6714 /...|tel:(02) 3-417-67...|\n",
      "|          9|WATSONS SM CITY B...|Outlet 1 SM City ...|MON-SUN  10:00 AM...|    (046) 3-417-5334|tel:(046) 3-417-5334|\n",
      "|         10|WATSONS SM CITY B...|Cavite, Outlet 2 ...|MON-SUN  10:00 AM...|    (046) 3-417-2400|tel:(046) 3-417-2400|\n",
      "|         11|WATSONS SM CITY F...|Quezon City, Outl...|MON-SUN  10:00 AM...|     (02) 8-936-8415| tel:(02) 8-936-8415|\n",
      "|         12|WATSONS SM CITY B...|Cavite, Supermark...|MON-SUN  8:00 AM ...|    (046) 3-417-3695|tel:(046) 3-417-3695|\n",
      "|         13|WATSONS FESTIVAL ...|Muntinlupa City, ...|MON-SUN  10:00 AM...|(02) 8-850-0455 /...|tel:(02) 8-850-04...|\n",
      "|         14|WATSONS SM MEGAMA...|Mandaluyong City,...|MON-SUN  8:00 AM ...|     (02) 8-635-0519| tel:(02) 8-635-0519|\n",
      "|         15|WATSONS SM CITY C...|Cebu City, UGF SM...|MON-SUN  10:00 AM...|      (032) 232-0762|  tel:(032) 232-0762|\n",
      "|         16|WATSONS SM MEGAMA...|Mandaluyong City,...|MON-SUN  10:00 AM...|     (02) 8-633-2828| tel:(02) 8-633-2828|\n",
      "|         17|WATSONS SM CITY N...|Quezon City, SM C...|MON-SUN  10:00 AM...|     (02) 8-929-7263| tel:(02) 8-929-7263|\n",
      "|         18|WATSONS SM STA ME...|Quezon City, Supe...|FRI-SAT  10:00 AM...|     (02) 8-713-8599| tel:(02) 8-713-8599|\n",
      "|         19|   WATSONS GUADALUPE|Makati City, Grou...|SUN  7:00 AM  -  ...|     (02) 8-288-6935| tel:(02) 8-288-6935|\n",
      "|         20|WATSONS SM CITY M...|Manila City, UGF ...|MON-SUN  10:00 AM...|(02) 8-523-6855 /...|tel:(02) 8-523-68...|\n",
      "+-----------+--------------------+--------------------+--------------------+--------------------+--------------------+\n",
      "only showing top 20 rows\n",
      "\n"
     ]
    }
   ],
   "source": [
    "# quick inspection of watsons' dataframe\n",
    "df_watsons.createOrReplaceTempView(\"watsons\")\n",
    "initial_inspect = spark.sql(\"SELECT * FROM watsons\")\n",
    "\n",
    "initial_inspect.show()"
   ]
  },
  {
   "cell_type": "code",
   "execution_count": 14,
   "metadata": {},
   "outputs": [
    {
     "name": "stdout",
     "output_type": "stream",
     "text": [
      "+-----------+----------+-------+----+---+--------+\n",
      "|store-order|store-name|address|time|tel|tel href|\n",
      "+-----------+----------+-------+----+---+--------+\n",
      "|          0|         0|      0|   0|  0|       0|\n",
      "|          0|         0|      0|   0|  0|       0|\n",
      "|          0|         0|      0|   0|  0|       0|\n",
      "+-----------+----------+-------+----+---+--------+\n",
      "\n"
     ]
    }
   ],
   "source": [
    "# show additional information - total Null, NaN, and Empty Values\n",
    "null_values = df_watsons.select([count(when(col(c).isNull(), c)).alias(c) for c in df_watsons.columns])\n",
    "nan_values = df_watsons.select([count(when(isnan(c), c)).alias(c) for c in df_watsons.columns])\n",
    "empty_values = df_watsons.select([count(when(col(c) == \"\", c)).alias(c) for c in df_watsons.columns])\n",
    "\n",
    "append = null_values.union(nan_values).union(empty_values)\n",
    "append.show()"
   ]
  },
  {
   "cell_type": "code",
   "execution_count": 15,
   "metadata": {},
   "outputs": [
    {
     "name": "stdout",
     "output_type": "stream",
     "text": [
      "+---+--------------------+--------------------+----------------+\n",
      "|Row|             Address|             Contact|            Name|\n",
      "+---+--------------------+--------------------+----------------+\n",
      "|  1|Quezon City, UGF ...|(02) 8-911-3661 /...|Watsons Pharmacy|\n",
      "|  2|Manila City, UGF ...|(02) 8-733-8416 t...|Watsons Pharmacy|\n",
      "|  3|Makati City, UGF ...|(02) 8-816-6421 /...|Watsons Pharmacy|\n",
      "|  4|Quezon City, UGF ...|     (02) 8-716-3718|Watsons Pharmacy|\n",
      "|  5|Quezon City, UGF ...|(02) 3-453-3154 /...|Watsons Pharmacy|\n",
      "|  6|Mandaluyong City,...|     (02) 8-687-4296|Watsons Pharmacy|\n",
      "|  7|Cavite, UGF SM Ci...|(046) 417-0869 / ...|Watsons Pharmacy|\n",
      "|  8|Quezon City, UGF ...|(02) 3-417-6714 /...|Watsons Pharmacy|\n",
      "|  9|Outlet 1 SM City ...|    (046) 3-417-5334|Watsons Pharmacy|\n",
      "| 10|Cavite, Outlet 2 ...|    (046) 3-417-2400|Watsons Pharmacy|\n",
      "| 11|Quezon City, Outl...|     (02) 8-936-8415|Watsons Pharmacy|\n",
      "| 12|Cavite, Supermark...|    (046) 3-417-3695|Watsons Pharmacy|\n",
      "| 13|Muntinlupa City, ...|(02) 8-850-0455 /...|Watsons Pharmacy|\n",
      "| 14|Mandaluyong City,...|     (02) 8-635-0519|Watsons Pharmacy|\n",
      "| 15|Cebu City, UGF SM...|      (032) 232-0762|Watsons Pharmacy|\n",
      "| 16|Mandaluyong City,...|     (02) 8-633-2828|Watsons Pharmacy|\n",
      "| 17|Quezon City, SM C...|     (02) 8-929-7263|Watsons Pharmacy|\n",
      "| 18|Quezon City, Supe...|     (02) 8-713-8599|Watsons Pharmacy|\n",
      "| 19|Makati City, Grou...|     (02) 8-288-6935|Watsons Pharmacy|\n",
      "| 20|Manila City, UGF ...|(02) 8-523-6855 /...|Watsons Pharmacy|\n",
      "+---+--------------------+--------------------+----------------+\n",
      "only showing top 20 rows\n",
      "\n"
     ]
    }
   ],
   "source": [
    "# rename columns, remove tel href (duplicate)\n",
    "remove_cleaning_watsons = spark.sql(\"\"\"\n",
    "    SELECT `store-order` AS Row, `address` AS Address, TRIM(tel) AS Contact\n",
    "    FROM watsons\n",
    "\"\"\")\n",
    "\n",
    "cleaned_watsons = remove_cleaning_watsons\n",
    "cleaned_watsons = cleaned_watsons.withColumn(\"Name\", lit(\"Watsons Pharmacy\"))\n",
    "cleaned_watsons.show()"
   ]
  },
  {
   "cell_type": "code",
   "execution_count": 16,
   "metadata": {},
   "outputs": [
    {
     "name": "stdout",
     "output_type": "stream",
     "text": [
      "+---+--------------------+--------------------+----------------+\n",
      "|Row|             Address|             Contact|            Name|\n",
      "+---+--------------------+--------------------+----------------+\n",
      "|  1|Quezon City, UGF ...|(02) 8-911-3661 /...|Watsons Pharmacy|\n",
      "|  2|Manila City, UGF ...|(02) 8-733-8416 t...|Watsons Pharmacy|\n",
      "|  3|Makati City, UGF ...|(02) 8-816-6421 /...|Watsons Pharmacy|\n",
      "|  4|Quezon City, UGF ...|     (02) 8-716-3718|Watsons Pharmacy|\n",
      "|  5|Quezon City, UGF ...|(02) 3-453-3154 /...|Watsons Pharmacy|\n",
      "+---+--------------------+--------------------+----------------+\n",
      "only showing top 5 rows\n",
      "\n"
     ]
    }
   ],
   "source": [
    "# final inspection for watsons\n",
    "cleaned_watsons.show(5)"
   ]
  },
  {
   "cell_type": "markdown",
   "metadata": {},
   "source": [
    "#### TRANSFORM rosepharmacy - luzon"
   ]
  },
  {
   "cell_type": "code",
   "execution_count": 17,
   "metadata": {},
   "outputs": [
    {
     "name": "stdout",
     "output_type": "stream",
     "text": [
      "+-------------------------+---------------------------+---+\n",
      "|tablescraper-selected-row|tablescraper-selected-row 2|Row|\n",
      "+-------------------------+---------------------------+---+\n",
      "|     1st Flr, Festival...|       Level 1 Festival ...|  1|\n",
      "|     Monday – Sunday 9...|              Store Hours :|  2|\n",
      "|     Zapote Road, Fili...|       South Station Ala...|  3|\n",
      "|     Monday – Sunday 6...|              Store Hours :|  4|\n",
      "|     G/F Asian Hospita...|       Asian Hospital Al...|  5|\n",
      "|     Monday – Sunday 7...|              Store Hours :|  6|\n",
      "|     space 2102A & 210...|       Level 2 Festival ...|  7|\n",
      "|     Monday – Sunday 9...|              Store Hours :|  8|\n",
      "|     Sucat, Muntinlupa...|       Lakefront Broadwa...|  9|\n",
      "|     Monday – Sunday 9...|              Store Hours :| 10|\n",
      "|     Calamba Arcade, N...|             Calamba Laguna| 11|\n",
      "|     Monday – Sunday 6...|              Store Hours :| 12|\n",
      "|     P. Torres St., Li...|       Torres Lipa City ...| 13|\n",
      "|     Monday – Sunday 6...|              Store Hours :| 14|\n",
      "|     N. 39 Rizal Avenu...|                   Batangas| 15|\n",
      "|     Monday – Sunday 7...|              Store Hours :| 16|\n",
      "|     Cresencia Bldg., ...|           Los Baños Laguna| 17|\n",
      "|     Monday – Sunday 8...|              Store Hours :| 18|\n",
      "|     J. P. Rizal Avenu...|             Cabuyao Laguna| 19|\n",
      "|     Monday – Sunday 7...|              Store Hours :| 20|\n",
      "+-------------------------+---------------------------+---+\n",
      "only showing top 20 rows\n",
      "\n"
     ]
    }
   ],
   "source": [
    "# quick inspection of rosepharmacy - luzon's dataframe\n",
    "df_rose_luzon.createOrReplaceTempView(\"rose_luzon\")\n",
    "initial_inspect = spark.sql(\"\"\"\n",
    "    SELECT \n",
    "        *, \n",
    "        ROW_NUMBER() OVER (ORDER BY (SELECT 1)) AS Row \n",
    "    FROM rose_luzon \n",
    "\"\"\")\n",
    "\n",
    "initial_inspect.show(20)"
   ]
  },
  {
   "cell_type": "code",
   "execution_count": 18,
   "metadata": {},
   "outputs": [
    {
     "name": "stdout",
     "output_type": "stream",
     "text": [
      "+-------------------------+---------------------------+\n",
      "|tablescraper-selected-row|tablescraper-selected-row 2|\n",
      "+-------------------------+---------------------------+\n",
      "|                        0|                          0|\n",
      "|                        0|                          0|\n",
      "|                        1|                          1|\n",
      "+-------------------------+---------------------------+\n",
      "\n"
     ]
    }
   ],
   "source": [
    "# show additional information - total Null, NaN, and Empty Values\n",
    "null_values = df_rose_luzon.select([count(when(col(c).isNull(), c)).alias(c) for c in df_rose_luzon.columns])\n",
    "nan_values = df_rose_luzon.select([count(when(isnan(c), c)).alias(c) for c in df_rose_luzon.columns])\n",
    "empty_values = df_rose_luzon.select([count(when(col(c) == \"\", c)).alias(c) for c in df_rose_luzon.columns])\n",
    "\n",
    "append = null_values.union(nan_values).union(empty_values)\n",
    "append.show()"
   ]
  },
  {
   "cell_type": "code",
   "execution_count": 19,
   "metadata": {},
   "outputs": [
    {
     "name": "stdout",
     "output_type": "stream",
     "text": [
      "+---+-------------------------+---------------------------+\n",
      "|Row|tablescraper-selected-row|tablescraper-selected-row 2|\n",
      "+---+-------------------------+---------------------------+\n",
      "| 25|     GF Gaisano Capita...|       Calapan Mindoro O...|\n",
      "| 26|     Monday – Sunday 8...|              Store Hours :|\n",
      "| 27|     GF-06 Gaisano Cap...|       Gaisano Capital S...|\n",
      "| 28|                         |       Shopwise Imus Cavite|\n",
      "| 29|     Shopwise Imus, Em...|                           |\n",
      "| 30|     Monday – Sunday 9...|              Store Hours :|\n",
      "| 31|     N. Domingo cor. G...|       San Juan Metro Ma...|\n",
      "+---+-------------------------+---------------------------+\n",
      "\n"
     ]
    }
   ],
   "source": [
    "# inspect further the empty row \n",
    "# 1. find the row number for the empty row \n",
    "initial_inspect.createOrReplaceTempView(\"initial_inspect_rose_luzon\")\n",
    "further_inspect = spark.sql(\"\"\"\n",
    "    SELECT `Row`, `tablescraper-selected-row`, `tablescraper-selected-row 2`\n",
    "    FROM initial_inspect_rose_luzon\n",
    "    WHERE `tablescraper-selected-row` = \"\" OR `tablescraper-selected-row 2` = \"\"\n",
    "\"\"\")\n",
    "\n",
    "# 2. show rows before and after empty rows \n",
    "more_further_inspect = spark.sql(\"\"\"\n",
    "    SELECT `Row`, `tablescraper-selected-row`, `tablescraper-selected-row 2`\n",
    "    FROM initial_inspect_rose_luzon\n",
    "    WHERE `Row` >= 25 AND `Row` <= 31\n",
    "\"\"\").show()"
   ]
  },
  {
   "cell_type": "code",
   "execution_count": 20,
   "metadata": {},
   "outputs": [
    {
     "name": "stdout",
     "output_type": "stream",
     "text": [
      "+---+------------------------------------------------------------------------------------------+--------------+\n",
      "|Row|Address                                                                                   |Contact       |\n",
      "+---+------------------------------------------------------------------------------------------+--------------+\n",
      "|1  |1st Flr, Festival Supermall, Filinvest Corporate Ctiy, Alabang, Muntinlupa City           |(02) 850-2853 |\n",
      "|2  |Zapote Road, Filinvest Corporate City, Alabang, Muntinlupa City                           |(02) 807-9102 |\n",
      "|3  |G/F Asian Hospital, Filinvest Corporate City, Alabang, Muntinlupa City                    |(02) 659-3394 |\n",
      "|4  |space 2102A & 2106, 2nd level Festival Supermall, Filinvest corporate city,Alabang        |(02) 822-9492 |\n",
      "|5  |Sucat, Muntinlupa                                                                         |(02) 856-0293 |\n",
      "|6  |Calamba Arcade, National Highway, Crossing, Calamba City Laguna                           |(049) 545-6574|\n",
      "|7  |P. Torres St., Lipa City, Batangas                                                        |(043) 757-2111|\n",
      "|8  |N. 39 Rizal Avenue, Batangas City                                                         |(043) 723-6997|\n",
      "|9  |Cresencia Bldg., Nat’l. Hiway cor. Lopez Ave., Los Baños, Laguna                          |(049) 536-8742|\n",
      "|10 |J. P. Rizal Avenue, Poblacion, Cabuyao, Laguna                                            |(049) 832-0029|\n",
      "|11 |Mabini St. cor. Trapiche Road, Tanauan City Batangas                                      |(043) 778-7155|\n",
      "|12 |A. Mabini St., San Pedro, Laguna                                                          |(02) 519-1380 |\n",
      "|13 |GF Gaisano Capital Calapan, Brgy. Tawiran,Calapan, Mindoro Oriental                       |(043) 288-2182|\n",
      "|14 |GF-06 Gaisano Cap. San Jose, National Rd., Labangan,San Jose, Occidental Mindoro          |0             |\n",
      "|15 |Shopwise Imus, Emilio Aguinaldo Highway, cor. Anabu Kostal Road, Imus, Cavite             |(046) 416-3246|\n",
      "|16 |N. Domingo cor. G.B. Santos Sts., San Juan del Norte, Metro Manila                        |(02) 724-6050 |\n",
      "|17 |Manahan Bldg., Aurora Blvd. cor. Anonas St. Quirino District, Q.C.                        |(02) 913-6241 |\n",
      "|18 |Space 1-a,GF Shopwise express,cor.G.Tuazon/Santiago st.Brgy 576,Zone 56,District IV,Manila|(02) 713-1126 |\n",
      "|19 |Metro Gaisano-Gate 3 Plaza Mall Lawton ave.Western Taguig City                            |(02) 808-7061 |\n",
      "|20 |Mille Luce,ML Quezon,ext. San Roque,Antipolo City, Rizal                                  |(02) 234-5138 |\n",
      "+---+------------------------------------------------------------------------------------------+--------------+\n",
      "\n"
     ]
    }
   ],
   "source": [
    "# add an empty row at row 28 and row 30(previously 29) to balance data distribution\n",
    "new_row = spark.createDataFrame([(\"27.5\",\"\",\"\"),(\"28.5\",\"\",\"\")], [\"Row\",\"tablescraper-selected-row\",\"tablescraper-selected-row 2\"])\n",
    "add_empty_row = spark.sql(\"SELECT `Row`, `tablescraper-selected-row`, `tablescraper-selected-row 2` FROM initial_inspect_rose_luzon\").unionAll(new_row)\n",
    "add_empty_row.createOrReplaceTempView(\"add_empty_row_rose_luzon\")\n",
    "new_added_row = spark.sql(\"\"\"\n",
    "    WITH add_empty_row AS (\n",
    "        SELECT CAST(Row AS INTEGER), `tablescraper-selected-row`, `tablescraper-selected-row 2`\n",
    "        FROM add_empty_row_rose_luzon\n",
    "        ORDER BY `Row`\n",
    "    ), \n",
    "    reorder_row AS (\n",
    "        SELECT *, CAST(ROW_NUMBER() OVER (ORDER BY (SELECT 1)) AS INTEGER) AS RowCount\n",
    "        FROM add_empty_row\n",
    "    )\n",
    "    SELECT RowCount as Row, `tablescraper-selected-row`, `tablescraper-selected-row 2`\n",
    "    FROM reorder_row\n",
    "\"\"\")\n",
    "\n",
    "# remove the store hours from rows \n",
    "new_added_row.createOrReplaceTempView(\"added_empty_row_rose_luzon\")\n",
    "remove_store_hours_cleaning_rose_luzon = spark.sql(\"\"\"\n",
    "    SELECT *\n",
    "    FROM added_empty_row_rose_luzon\n",
    "    WHERE `Row` % 2 = 1\n",
    "\"\"\")\n",
    "\n",
    "# separate contact from address in tablescraper-selected-row column and reorder the row count\n",
    "remove_store_hours_cleaning_rose_luzon.createOrReplaceTempView(\"remove_store_hours_rose_luzon\")\n",
    "address_rose_luzon = remove_store_hours_cleaning_rose_luzon.withColumn(\"Address\", split(remove_store_hours_cleaning_rose_luzon['tablescraper-selected-row'], '\\n').getItem(0)).createOrReplaceTempView(\"address_rose_luzon\")\n",
    "contact_rose_luzon = remove_store_hours_cleaning_rose_luzon.withColumn(\"Contact\", split(remove_store_hours_cleaning_rose_luzon['tablescraper-selected-row'], '\\n').getItem(1)).createOrReplaceTempView(\"contact_rose_luzon\")\n",
    "address_contact_cleaning_rose_luzon = spark.sql(\"\"\"\n",
    "        SELECT \n",
    "            CAST(ROW_NUMBER() OVER (ORDER BY (SELECT 1)) AS INTEGER) AS Row, \n",
    "            Address, \n",
    "            TRIM('Tel. ' FROM Contact) AS Contact\n",
    "        FROM address_rose_luzon\n",
    "        JOIN contact_rose_luzon\n",
    "        ON address_rose_luzon.Row = contact_rose_luzon.Row\n",
    "        WHERE NOT `Address` = \"\"\n",
    "\"\"\")\n",
    "\n",
    "# replace null values with 0\n",
    "fill_null_cleaning_rose_luzon = address_contact_cleaning_rose_luzon.rdd.map(lambda row: (row[0], row[1], 0 if row[2] == None else row[2]))\n",
    "fill_null_cleaning_rose_luzon.collect()\n",
    "\n",
    "cleaned_rose_luzon = fill_null_cleaning_rose_luzon.toDF([\"Row\",\"Address\",\"Contact\"])\n",
    "cleaned_rose_luzon.show(20,False)"
   ]
  },
  {
   "cell_type": "markdown",
   "metadata": {},
   "source": [
    "#### TRANSFORM rosepharmacy - visayas"
   ]
  },
  {
   "cell_type": "code",
   "execution_count": 21,
   "metadata": {},
   "outputs": [
    {
     "name": "stdout",
     "output_type": "stream",
     "text": [
      "+-------------------------+---------------------------+---+\n",
      "|tablescraper-selected-row|tablescraper-selected-row 2|Row|\n",
      "+-------------------------+---------------------------+---+\n",
      "|     Osmeña Boulevard,...|           Osmeña Boulevard|  1|\n",
      "|     Monday – Sunday 7...|              Store Hours :|  2|\n",
      "|     Cinco Centrum, Fu...|              Fuente Osmeña|  3|\n",
      "|     Monday – Sunday O...|              Store Hours :|  4|\n",
      "|     Unit 159, Upper G...|               SM City Cebu|  5|\n",
      "|     Monday – Sunday 1...|              Store Hours :|  6|\n",
      "|     Stall 277, 2nd Fl...|          Ayala Center Cebu|  7|\n",
      "|     Monday – Sunday 1...|              Store Hours :|  8|\n",
      "|     Robinsons Cyberga...|        Robinsons Cybergate|  9|\n",
      "|     Monday – Sunday 8...|              Store Hours :| 10|\n",
      "|     F Ramos Street, C...|                  ABC Hotel| 11|\n",
      "|     Monday – Sunday 7...|              Store Hours :| 12|\n",
      "|     Diaz Bldg. Cor. A...|                      Avila| 13|\n",
      "|     Monday – Sunday 7...|              Store Hours :| 14|\n",
      "|     Stall 3 & 4, G/F ...|                 UC Banilad| 15|\n",
      "|     Monday – Sunday O...|              Store Hours :| 16|\n",
      "|     V. Rama Avenue, G...|           Banawa Guadalupe| 17|\n",
      "|     Monday – Sunday 7...|              Store Hours :| 18|\n",
      "|     Piazza Elesia Com...|       Piazza Elesia Tal...| 19|\n",
      "|     Monday – Sunday 7...|              Store Hours :| 20|\n",
      "+-------------------------+---------------------------+---+\n",
      "only showing top 20 rows\n",
      "\n"
     ]
    }
   ],
   "source": [
    "# quick inspection of rosepharmacy - luzon's dataframe\n",
    "df_rose_visayas.createOrReplaceTempView(\"rose_visayas\")\n",
    "initial_inspect = spark.sql(\"\"\"\n",
    "    SELECT \n",
    "        *, \n",
    "        ROW_NUMBER() OVER (ORDER BY (SELECT 1)) AS Row \n",
    "    FROM rose_visayas\n",
    "\"\"\")\n",
    "\n",
    "initial_inspect.show(20)"
   ]
  },
  {
   "cell_type": "code",
   "execution_count": 22,
   "metadata": {},
   "outputs": [
    {
     "name": "stdout",
     "output_type": "stream",
     "text": [
      "+-------------------------+---------------------------+\n",
      "|tablescraper-selected-row|tablescraper-selected-row 2|\n",
      "+-------------------------+---------------------------+\n",
      "|                        0|                          0|\n",
      "|                        0|                          0|\n",
      "|                        1|                          1|\n",
      "+-------------------------+---------------------------+\n",
      "\n"
     ]
    }
   ],
   "source": [
    "# show additional information - total Null, NaN, and Empty Values\n",
    "null_values = df_rose_visayas.select([count(when(col(c).isNull(), c)).alias(c) for c in df_rose_visayas.columns])\n",
    "nan_values = df_rose_visayas.select([count(when(isnan(c), c)).alias(c) for c in df_rose_visayas.columns])\n",
    "empty_values = df_rose_visayas.select([count(when(col(c) == \"\", c)).alias(c) for c in df_rose_visayas.columns])\n",
    "\n",
    "append = null_values.union(nan_values).union(empty_values)\n",
    "append.show()"
   ]
  },
  {
   "cell_type": "code",
   "execution_count": 23,
   "metadata": {},
   "outputs": [
    {
     "name": "stdout",
     "output_type": "stream",
     "text": [
      "+---+-------------------------+---------------------------+\n",
      "|Row|tablescraper-selected-row|tablescraper-selected-row 2|\n",
      "+---+-------------------------+---------------------------+\n",
      "|150|     GF M-1 Gaisano Gr...|       Gaisano Grandmall...|\n",
      "|151|     Monday – Thursday...|              Store Hours :|\n",
      "|152|     Insular Square,Ta...|       Insular Square Ma...|\n",
      "|153|     Monday – Thursday...|              Store Hours :|\n",
      "|154|                         |       Gaisano Saversmar...|\n",
      "|155|     Gaisano Saversmar...|                           |\n",
      "|156|     Monday – Thursday...|              Store Hours :|\n",
      "|157|     GF 12,Gaisano Cap...|       Gaisano Capital C...|\n",
      "|158|     Monday – Thursday...|              Store Hours :|\n",
      "|159|     GF Tita Gwapa Sup...|       Tita Gwapa Supert...|\n",
      "|160|     Monday – Sunday 7...|              Store Hours :|\n",
      "+---+-------------------------+---------------------------+\n",
      "\n"
     ]
    }
   ],
   "source": [
    "# inspect further the empty row \n",
    "# 1. find the row number for the empty row \n",
    "initial_inspect.createOrReplaceTempView(\"initial_inspect_rose_visayas\")\n",
    "further_inspect = spark.sql(\"\"\"\n",
    "    SELECT `Row`, `tablescraper-selected-row`, `tablescraper-selected-row 2`\n",
    "    FROM initial_inspect_rose_visayas\n",
    "    WHERE `tablescraper-selected-row` = \"\" OR `tablescraper-selected-row 2` = \"\"\n",
    "\"\"\")\n",
    "\n",
    "# 2. show rows before and after empty rows \n",
    "more_further_inspect = spark.sql(\"\"\"\n",
    "    SELECT `Row`, `tablescraper-selected-row`, `tablescraper-selected-row 2`\n",
    "    FROM initial_inspect_rose_visayas\n",
    "    WHERE `Row` >= 150 AND `Row` <= 160\n",
    "\"\"\").show()"
   ]
  },
  {
   "cell_type": "code",
   "execution_count": 24,
   "metadata": {},
   "outputs": [
    {
     "name": "stdout",
     "output_type": "stream",
     "text": [
      "+---+--------------------+--------------+\n",
      "|Row|             Address|       Contact|\n",
      "+---+--------------------+--------------+\n",
      "|  1|Osmeña Boulevard,...|(032) 230-5012|\n",
      "|  2|Cinco Centrum, Fu...|(032) 253-4080|\n",
      "|  3|Unit 159, Upper G...|(032) 232-0608|\n",
      "|  4|Stall 277, 2nd Fl...|(032) 233-7844|\n",
      "|  5|Robinsons Cyberga...|(032) 505-5921|\n",
      "|  6|F Ramos Street, C...|(032) 254-7644|\n",
      "|  7|Diaz Bldg. Cor. A...|(032) 230-5013|\n",
      "|  8|Stall 3 & 4, G/F ...|(032) 231-9733|\n",
      "|  9|V. Rama Avenue, G...|(032) 254-9544|\n",
      "| 10|Piazza Elesia Com...|(032) 344-6771|\n",
      "| 11|H. Cortes corner ...|(032) 230-5017|\n",
      "| 12|J Center Mall,#16...|(032) 520-3608|\n",
      "| 13|19-20 GF One Pavi...|(032) 236-9477|\n",
      "| 14|Express Inn, J. L...|(032) 236-0154|\n",
      "| 15|GF Gaisano Grand ...|(032) 401-0182|\n",
      "| 16|Gov. M. Cuenco Av...|(032) 239-4153|\n",
      "| 17|Anitas Bldg., cor...|(032) 239-0901|\n",
      "| 18|Square 1 building...|(032) 236-6200|\n",
      "| 19|Fooda Saversmart,...|(032) 260-7310|\n",
      "| 20|G/F-5, Ground Flo...|(032) 262-0082|\n",
      "+---+--------------------+--------------+\n",
      "only showing top 20 rows\n",
      "\n"
     ]
    }
   ],
   "source": [
    "# add an empty row at rows 155 and 58,226,237 to balance data distribution\n",
    "new_row = spark.createDataFrame([(\"154.5\",\"\",\"\"),(\"57.5\",\"\",\"\"),(\"225.5\",\"\",\"\"),(\"236.5\",\"\",\"\")], [\"Row\",\"tablescraper-selected-row\",\"tablescraper-selected-row 2\"])\n",
    "add_empty_row = spark.sql(\"SELECT `Row`, `tablescraper-selected-row`, `tablescraper-selected-row 2` FROM initial_inspect_rose_visayas\").unionAll(new_row)\n",
    "add_empty_row.createOrReplaceTempView(\"add_empty_row_rose_visayas\")\n",
    "new_added_row = spark.sql(\"\"\"\n",
    "    WITH add_empty_row AS (\n",
    "        SELECT CAST(Row AS INTEGER), `tablescraper-selected-row`, `tablescraper-selected-row 2`\n",
    "        FROM add_empty_row_rose_visayas\n",
    "        ORDER BY `Row`\n",
    "    ), \n",
    "    reorder_row AS (\n",
    "        SELECT *, CAST(ROW_NUMBER() OVER (ORDER BY (SELECT 1)) AS INTEGER) AS RowCount\n",
    "        FROM add_empty_row\n",
    "    )\n",
    "    SELECT RowCount as Row, `tablescraper-selected-row`, `tablescraper-selected-row 2`\n",
    "    FROM reorder_row\n",
    "\"\"\")\n",
    "\n",
    "# remove the store hours from rows \n",
    "new_added_row.createOrReplaceTempView(\"added_empty_row_rose_visayas\")\n",
    "remove_store_hours_cleaning_rose_visayas = spark.sql(\"\"\"\n",
    "    SELECT *\n",
    "    FROM added_empty_row_rose_visayas\n",
    "    WHERE `Row` % 2 = 1 \n",
    "\"\"\")\n",
    "\n",
    "# separate contact from address in tablescraper-selected-row column and reorder the row count\n",
    "remove_store_hours_cleaning_rose_visayas.createOrReplaceTempView(\"remove_store_hours_rose_visayas\")\n",
    "address_rose_visayas = remove_store_hours_cleaning_rose_visayas.withColumn(\"Address\", split(remove_store_hours_cleaning_rose_visayas['tablescraper-selected-row'], '\\n').getItem(0)).createOrReplaceTempView(\"address_rose_visayas\")\n",
    "contact_rose_visayas = remove_store_hours_cleaning_rose_visayas.withColumn(\"Contact\", split(remove_store_hours_cleaning_rose_visayas['tablescraper-selected-row'], '\\n').getItem(1)).createOrReplaceTempView(\"contact_rose_visayas\")\n",
    "address_contact_cleaning_rose_visayas = spark.sql(\"\"\"\n",
    "        SELECT \n",
    "            CAST(ROW_NUMBER() OVER (ORDER BY (SELECT 1)) AS INTEGER) AS Row, \n",
    "            Address, \n",
    "            TRIM('Tel. ' FROM Contact) AS Contact\n",
    "        FROM address_rose_visayas\n",
    "        JOIN contact_rose_visayas\n",
    "        ON address_rose_visayas.Row = contact_rose_visayas.Row\n",
    "\"\"\")\n",
    "\n",
    "# fill null values with 0 \n",
    "fill_null_cleaning_rose_visayas = address_contact_cleaning_rose_visayas.rdd.map(lambda row: (row[0], row[1], 0 if row[2] == None else row[2]))\n",
    "fill_null_cleaning_rose_visayas.collect()\n",
    "\n",
    "# fix outlier - replace empty row with its proper value  \n",
    "replace_empty_row_rose_visayas = fill_null_cleaning_rose_visayas.toDF([\"Row\",\"Address\",\"Contact\"]).replace(\"\",\"Kagodoy, Basak-Marigondon Rd, Lapu-Lapu, 6015 Lalawigan ng Cebu\",\"Address\")\n",
    "\n",
    "# final inspection for rosepharmacy - visayas\n",
    "cleaned_rose_visayas = replace_empty_row_rose_visayas\n",
    "cleaned_rose_visayas.show()"
   ]
  },
  {
   "cell_type": "markdown",
   "metadata": {},
   "source": [
    "#### TRANSFORM rosepharmacy - mindanao"
   ]
  },
  {
   "cell_type": "code",
   "execution_count": 25,
   "metadata": {},
   "outputs": [
    {
     "name": "stdout",
     "output_type": "stream",
     "text": [
      "+-------------------------+---------------------------+---+\n",
      "|tablescraper-selected-row|tablescraper-selected-row 2|Row|\n",
      "+-------------------------+---------------------------+---+\n",
      "|     J. Borja cor. Gui...|       Rose Pharmacy Gui...|  1|\n",
      "|     Cruz Taal cor. Ap...|       Rose Pharmacy Cru...|  2|\n",
      "|     R.N. Abejuela St....|       Rose Pharmacy Abe...|  3|\n",
      "|     Tirso Neri/Velez ...|       Rose Pharmacy Tir...|  4|\n",
      "|     Gaisano City, Cor...|       Rose Pharmacy Gai...|  5|\n",
      "|     Matilde Neri cor....|       Rose Pharmacy Car...|  6|\n",
      "|     Level 1, Robinson...|       Rose Pharmacy Rob...|  7|\n",
      "|     Lapasan Highway, ...|       Rose Pharmacy Lap...|  8|\n",
      "|     J. Borja St. cor....|       Rose Pharmacy J. ...|  9|\n",
      "|     J.R. Borja cor. D...|       Rose Pharmacy Dau...| 10|\n",
      "|     Gusa, Cagayan de ...|       Rose Pharmacy Gus...| 11|\n",
      "|     Puerto, Cagayan d...|       Rose Pharmacy Pue...| 12|\n",
      "|     T. Saco St. cor. ...|       Rose Pharmacy Mac...| 13|\n",
      "|     G/F Space F. Pela...|       Rose Pharmacy Geo...| 14|\n",
      "|     Gateway Tower 1, ...|       Rose Pharmacy Lim...| 15|\n",
      "|     Market City bus T...|       Rose Pharmacy Ago...| 16|\n",
      "|     National Highway ...|       Rose Pharmacy Bul...| 17|\n",
      "|     Gaisano Bulua , Z...|       Rose Pharmacy Gai...| 18|\n",
      "|     Centrio Mall, CM ...|       Rose Pharmacy Aya...| 19|\n",
      "|     Unit 1B, Bldg.4, ...|       Rose Pharmacy Mas...| 20|\n",
      "+-------------------------+---------------------------+---+\n",
      "only showing top 20 rows\n",
      "\n"
     ]
    }
   ],
   "source": [
    "# quick inspection of rosepharmacy - luzon's dataframe\n",
    "df_rose_mindanao.createOrReplaceTempView(\"rose_mindanao\")\n",
    "initial_inspect = spark.sql(\"\"\"\n",
    "    SELECT \n",
    "        *, \n",
    "        ROW_NUMBER() OVER (ORDER BY (SELECT 1)) AS Row \n",
    "    FROM rose_mindanao\n",
    "\"\"\")\n",
    "\n",
    "initial_inspect.show(20)"
   ]
  },
  {
   "cell_type": "code",
   "execution_count": 26,
   "metadata": {},
   "outputs": [
    {
     "name": "stdout",
     "output_type": "stream",
     "text": [
      "+-------------------------+---------------------------+\n",
      "|tablescraper-selected-row|tablescraper-selected-row 2|\n",
      "+-------------------------+---------------------------+\n",
      "|                        1|                          1|\n",
      "|                        0|                          0|\n",
      "|                        0|                          0|\n",
      "+-------------------------+---------------------------+\n",
      "\n"
     ]
    }
   ],
   "source": [
    "# show additional information - total Null, NaN, and Empty Values\n",
    "null_values = df_rose_mindanao.select([count(when(col(c).isNull(), c)).alias(c) for c in df_rose_mindanao.columns])\n",
    "nan_values = df_rose_mindanao.select([count(when(isnan(c), c)).alias(c) for c in df_rose_mindanao.columns])\n",
    "empty_values = df_rose_mindanao.select([count(when(col(c) == \"\", c)).alias(c) for c in df_rose_mindanao.columns])\n",
    "\n",
    "append = null_values.union(nan_values).union(empty_values)\n",
    "append.show()"
   ]
  },
  {
   "cell_type": "code",
   "execution_count": 27,
   "metadata": {},
   "outputs": [
    {
     "name": "stdout",
     "output_type": "stream",
     "text": [
      "+---+-------------------------+---------------------------+\n",
      "|Row|tablescraper-selected-row|tablescraper-selected-row 2|\n",
      "+---+-------------------------+---------------------------+\n",
      "| 93|                     null|                       null|\n",
      "+---+-------------------------+---------------------------+\n",
      "\n"
     ]
    }
   ],
   "source": [
    "# inspect further the null row \n",
    "# find the row number for the null row \n",
    "initial_inspect.createOrReplaceTempView(\"initial_inspect_rose_mindanao\")\n",
    "further_inspect = spark.sql(\"\"\"\n",
    "    SELECT `Row`, `tablescraper-selected-row`, `tablescraper-selected-row 2`\n",
    "    FROM initial_inspect_rose_mindanao\n",
    "    WHERE `tablescraper-selected-row` IS NULL OR `tablescraper-selected-row 2` IS NULL\n",
    "\"\"\")\n",
    "\n",
    "further_inspect.show()"
   ]
  },
  {
   "cell_type": "code",
   "execution_count": 28,
   "metadata": {},
   "outputs": [
    {
     "name": "stdout",
     "output_type": "stream",
     "text": [
      "+---+--------------------+--------------------+\n",
      "|Row|             Address|             Contact|\n",
      "+---+--------------------+--------------------+\n",
      "|  1|J. Borja cor. Gui...|08822 722-922 / 7...|\n",
      "|  2|Cruz Taal cor. Ap...|       08822 725-301|\n",
      "|  3|R.N. Abejuela St....|       08822 727-864|\n",
      "|  4|Tirso Neri/Velez ...|       08822 728-180|\n",
      "|  5|Gaisano City, Cor...|        088 856-6816|\n",
      "|  6|Matilde Neri cor....|       08822 726-156|\n",
      "|  7|Level 1, Robinson...|        088 856-1262|\n",
      "|  8|Lapasan Highway, ...|       08822 714-067|\n",
      "|  9|J. Borja St. cor....|       08822 714-732|\n",
      "| 10|J.R. Borja cor. D...|       08822 714-816|\n",
      "| 11|Gusa, Cagayan de ...|       08822 733-840|\n",
      "| 12|Puerto, Cagayan d...|        088 880-7349|\n",
      "| 13|T. Saco St. cor. ...|       08822 722-204|\n",
      "| 14|G/F Space F. Pela...|        088 858-2358|\n",
      "| 15|Gateway Tower 1, ...|        088 852-1258|\n",
      "| 16|Market City bus T...|        088 857-4022|\n",
      "| 17|National Highway ...|       08822 727-061|\n",
      "| 18|Gaisano Bulua , Z...|        088 880-1606|\n",
      "| 19|Centrio Mall, CM ...|        088 883-0377|\n",
      "| 20|Unit 1B, Bldg.4, ...|            850-0940|\n",
      "+---+--------------------+--------------------+\n",
      "only showing top 20 rows\n",
      "\n"
     ]
    }
   ],
   "source": [
    "# remove rows with null values in all columns \n",
    "remove_null_rows_cleaning_rose_mindanao = spark.sql(\"\"\"\n",
    "    SELECT CAST(ROW_NUMBER() OVER (ORDER BY (SELECT 1)) AS INTEGER) AS Row, `tablescraper-selected-row`, `tablescraper-selected-row 2`\n",
    "    FROM rose_mindanao\n",
    "    WHERE `tablescraper-selected-row` IS NOT NULL OR `tablescraper-selected-row 2` IS NOT NULL\n",
    "\"\"\")\n",
    "\n",
    "# separate contact from address in tablescraper-selected-row column\n",
    "remove_null_rows_cleaning_rose_mindanao.createOrReplaceTempView(\"remove_null_rows_rose_mindanao\")\n",
    "address_rose_mindanao = remove_null_rows_cleaning_rose_mindanao.withColumn(\"Address\", split(remove_null_rows_cleaning_rose_mindanao['tablescraper-selected-row'], '\\n').getItem(0)).createOrReplaceTempView(\"address_rose_mindanao\")\n",
    "contact_rose_mindanao = remove_null_rows_cleaning_rose_mindanao.withColumn(\"Contact\", split(remove_null_rows_cleaning_rose_mindanao['tablescraper-selected-row'], '\\n').getItem(1)).createOrReplaceTempView(\"contact_rose_mindanao\")\n",
    "address_contact_cleaning_rose_mindanao = spark.sql(\"\"\"\n",
    "        SELECT \n",
    "            CAST(ROW_NUMBER() OVER (ORDER BY (SELECT 1)) AS INTEGER) AS Row, \n",
    "            Address, \n",
    "            Contact\n",
    "        FROM address_rose_mindanao\n",
    "        JOIN contact_rose_mindanao\n",
    "        ON address_rose_mindanao.Row = contact_rose_mindanao.Row\n",
    "\"\"\")\n",
    "address_contact_cleaning_rose_mindanao = address_contact_cleaning_rose_mindanao.withColumn('Contact_tmp', regexp_extract('Address', '\\\\d+\\\\s+\\\\d+-\\\\d+\\\\s*/*\\\\s*\\\\d*-*\\\\d*', 0)).select(\n",
    "    'Row',\n",
    "    expr('replace(Address, Contact_tmp, \"\")').alias('Address'),\n",
    "    coalesce('Contact', 'Contact_tmp').alias('Contact')\n",
    ")\n",
    "\n",
    "# fill empty values with 0 \n",
    "fill_null_cleaning_rose_mindanao = address_contact_cleaning_rose_mindanao.rdd.map(lambda row: (row[0], row[1], 0 if row[2] == \"\" else row[2]))\n",
    "fill_null_cleaning_rose_mindanao.collect()\n",
    "\n",
    "# fix outlier - replace weird row with its proper value \n",
    "outlier_cleaning_rose_mindanao = fill_null_cleaning_rose_mindanao.toDF([\"Row\",\"Address\",\"Contact\"])\n",
    "outlier_cleaning_rose_mindanao.createOrReplaceTempView(\"outlier_cleaning\")\n",
    "outlier_cleaning_rose_mindanao = spark.sql(\"\"\"\n",
    "    SELECT \n",
    "        Row,\n",
    "        CASE\n",
    "            WHEN Address = '839-5175'\n",
    "            THEN 'GF-06 Gaisano Cap. San Jose, National Rd., Labangan, Occidental Mindoro, San Jose, 5100'\n",
    "            ELSE Address\n",
    "        END As Address,\n",
    "        Contact\n",
    "    FROM outlier_cleaning\n",
    "\"\"\")\n",
    "outlier_cleaning_rose_mindanao.createOrReplaceTempView(\"further_outlier_cleaning\")\n",
    "further_outlier_cleaning_rose_mindanao = spark.sql(\"\"\"\n",
    "    WITH union_cte AS (\n",
    "        SELECT *\n",
    "        FROM further_outlier_cleaning\n",
    "\n",
    "        UNION\n",
    "\n",
    "        SELECT \n",
    "            Row, \n",
    "            Address, \n",
    "            CASE \n",
    "                WHEN Contact = 0\n",
    "                THEN '839-5175'\n",
    "                ELSE Contact\n",
    "            END AS Contact\n",
    "        FROM further_outlier_cleaning\n",
    "        WHERE Address = 'GF-06 Gaisano Cap. San Jose, National Rd., Labangan, Occidental Mindoro, San Jose, 5100'\n",
    "    )\n",
    "    SELECT * \n",
    "    FROM union_cte\n",
    "    WHERE \n",
    "        NOT (Address = 'GF-06 Gaisano Cap. San Jose, National Rd., Labangan, Occidental Mindoro, San Jose, 5100' \n",
    "        AND Contact = \"0\")\n",
    "    ORDER BY Row\n",
    "\"\"\")\n",
    "\n",
    "# final inspection for rosepharmacy - mindanao\n",
    "cleaned_rose_mindanao = further_outlier_cleaning_rose_mindanao\n",
    "cleaned_rose_mindanao.show()"
   ]
  },
  {
   "cell_type": "markdown",
   "metadata": {},
   "source": [
    "#### Merge multiple rosepharmacy dataframes"
   ]
  },
  {
   "cell_type": "code",
   "execution_count": 29,
   "metadata": {},
   "outputs": [
    {
     "name": "stdout",
     "output_type": "stream",
     "text": [
      "+---+--------------------+-------------+-------------+\n",
      "|Row|             Address|      Contact|         Name|\n",
      "+---+--------------------+-------------+-------------+\n",
      "|  1|1st Flr, Festival...|(02) 850-2853|Rose Pharmacy|\n",
      "|  2|Zapote Road, Fili...|(02) 807-9102|Rose Pharmacy|\n",
      "|  3|G/F Asian Hospita...|(02) 659-3394|Rose Pharmacy|\n",
      "|  4|space 2102A & 210...|(02) 822-9492|Rose Pharmacy|\n",
      "|  5|   Sucat, Muntinlupa|(02) 856-0293|Rose Pharmacy|\n",
      "+---+--------------------+-------------+-------------+\n",
      "only showing top 5 rows\n",
      "\n",
      "root\n",
      " |-- Row: integer (nullable = false)\n",
      " |-- Address: string (nullable = true)\n",
      " |-- Contact: string (nullable = true)\n",
      " |-- Name: string (nullable = false)\n",
      "\n",
      "+---+-------+-------+----+\n",
      "|Row|Address|Contact|Name|\n",
      "+---+-------+-------+----+\n",
      "|  0|      0|      0|   0|\n",
      "|  0|      0|      0|   0|\n",
      "|  0|      0|      0|   0|\n",
      "+---+-------+-------+----+\n",
      "\n",
      "+-------+----------------+--------------------+--------------------+-------------+\n",
      "|summary|             Row|             Address|             Contact|         Name|\n",
      "+-------+----------------+--------------------+--------------------+-------------+\n",
      "|  count|             246|                 246|                 246|          246|\n",
      "|   mean|           123.5|                null|                 0.0|         null|\n",
      "| stddev|71.1582742904857|                null|                 0.0|         null|\n",
      "|    min|               1|# 182, Zone 1, Ka...|       (02) 234-5138|Rose Pharmacy|\n",
      "|    max|             246|space 2102A & 210...|Mobile: 0999-8850451|Rose Pharmacy|\n",
      "+-------+----------------+--------------------+--------------------+-------------+\n",
      "\n"
     ]
    }
   ],
   "source": [
    "# merge different dataframes \n",
    "cleaned_rose_luzon_visayas = cleaned_rose_luzon.union(cleaned_rose_visayas)\n",
    "cleaned_rose = cleaned_rose_luzon_visayas.union(cleaned_rose_mindanao)\n",
    "cleaned_rose.createOrReplaceTempView(\"cleaned_rose\")\n",
    "cleaned_rose = spark.sql(\"\"\"\n",
    "    SELECT CAST(ROW_NUMBER() OVER (ORDER BY (SELECT 1)) AS INTEGER) AS Row, Address, Contact\n",
    "    FROM cleaned_rose\n",
    "\"\"\")\n",
    "\n",
    "# initial and final inspect since these data are already cleaned\n",
    "cleaned_rose = cleaned_rose.withColumn(\"Name\", lit(\"Rose Pharmacy\"))\n",
    "cleaned_rose.show(5)\n",
    "cleaned_rose.printSchema()\n",
    "\n",
    "# show Null, NaN, and Empty Values\n",
    "null_values = cleaned_rose.select([count(when(col(c).isNull(), c)).alias(c) for c in cleaned_rose.columns])\n",
    "nan_values = cleaned_rose.select([count(when(isnan(c), c)).alias(c) for c in cleaned_rose.columns])\n",
    "empty_values = cleaned_rose.select([count(when(col(c) == \"\", c)).alias(c) for c in cleaned_rose.columns])\n",
    "append = null_values.union(nan_values).union(empty_values)\n",
    "append.show()\n",
    "\n",
    "# show basic statistics\n",
    "cleaned_rose.describe().show()"
   ]
  },
  {
   "cell_type": "markdown",
   "metadata": {},
   "source": [
    "#### TRANSFORM mercury drugs - luzon"
   ]
  },
  {
   "cell_type": "code",
   "execution_count": 30,
   "metadata": {},
   "outputs": [
    {
     "name": "stdout",
     "output_type": "stream",
     "text": [
      "+--------------------+--------------------+--------------------+--------------------+\n",
      "|                Name|             Address|               Phone|         Store Hours|\n",
      "+--------------------+--------------------+--------------------+--------------------+\n",
      "|     Bangued Partelo|\\n Partelo St. \\n...|\\n (074) 752-8152...|\\n 6:00 AM - 7:00...|\n",
      "|        Bangued Taft|\\n    \\n Taft Ave...|\\n (074) 752-5852...|\\n 6:00 AM - 9:00...|\n",
      "|   Bacacay Poblacion|\\n SSBF Bldg. \\n ...|           \\n () \\n |\\n 7:00 AM - 8:00...|\n",
      "|  Daraga B.U. Arcade|\\n Bicol Universi...|\\n (052) 483-4151...|\\n 6:00 AM - 10:0...|\n",
      "|Legazpi City Ayal...|\\n Ayala Malls Le...| \\n (052) 2010464\\n |\\n 10:00 AM - 8:0...|\n",
      "|Legazpi City Old ...|\\n GTS Bldg., \\n ...|\\n (052) 480-5129\\n |\\n 6:00 AM - 11:0...|\n",
      "|  Legazpi City Rizal|\\n Del Rosario Bl...|\\n (052) 480-5136\\n |\\n 6:00 AM - 10:0...|\n",
      "|Legazpi City Wash...|\\n Rivero Bldg., ...|\\n (052) 481-0988\\n |\\n 6:00 AM - 10:0...|\n",
      "| Ligao City McKinley|\\n - \\n McKinley ...|\\n (052) 485-1150\\n |\\n 6:00 AM - 9:00...|\n",
      "|   Polangui LCC Mall|\\n LCC Mall Polan...|           \\n () \\n |\\n 7:00 AM - 8:00...|\n",
      "|     Polangui Ubaliw|\\n  Ubaliw, \\n Po...|\\n (052) 486-1150\\n |\\n 6:00 AM - 9:00...|\n",
      "|Tabaco City Basud...|\\n    \\n Ziga Ave...|\\n (052) 487-7010...|\\n 6:00 AM - 8:00...|\n",
      "|        Baler Quezon|\\n    \\n Quezon S...|\\n (042) 722-0008...|\\n 7:00 AM - 10:0...|\n",
      "|Balanga City Paterno|\\n    \\n Paterno ...|\\n (047) 237-5269...|\\n 7:00 AM - 8:00...|\n",
      "|Balanga City Publ...|\\n    \\n Public M...|\\n (047) 791-1818...|\\n 6:00 AM - 6:00...|\n",
      "|  Balanga City Rizal|\\n    \\n Rizal St...|\\n (047) 237-5270...|\\n 7:00 AM - 8:00...|\n",
      "|Balanga City Roma...|\\n - \\n Roman Sup...|\\n (047) 633-3658\\n |\\n 7:00 AM - 7:00...|\n",
      "|Balanga City Walt...|\\n G/F WBLN 042 W...|           \\n () \\n |\\n 7:00 AM - 7:00...|\n",
      "|Dinalupihan Publi...|\\n Public Market ...|\\n (047) 636-1126\\n |\\n 7:00 AM - 8:00...|\n",
      "| Mariveles Poblacion|\\n DGDL Bldg. \\n ...|\\n (047) 633-0560...|\\n 7:00 AM - 8:00...|\n",
      "+--------------------+--------------------+--------------------+--------------------+\n",
      "only showing top 20 rows\n",
      "\n"
     ]
    }
   ],
   "source": [
    "# quick inspection of mercury drugs - luzon's dataframe\n",
    "df_mercury_luzon.createOrReplaceTempView(\"mercury_luzon\")\n",
    "initial_inspect = spark.sql(\"\"\"\n",
    "    SELECT  *\n",
    "    FROM mercury_luzon\n",
    "\"\"\")\n",
    "\n",
    "initial_inspect.show(20)"
   ]
  },
  {
   "cell_type": "code",
   "execution_count": 31,
   "metadata": {},
   "outputs": [
    {
     "name": "stdout",
     "output_type": "stream",
     "text": [
      "+----+-------+-----+-----------+\n",
      "|Name|Address|Phone|Store Hours|\n",
      "+----+-------+-----+-----------+\n",
      "|   0|      0|    0|          0|\n",
      "|   0|      0|    0|          0|\n",
      "|   0|      0|    0|          0|\n",
      "+----+-------+-----+-----------+\n",
      "\n"
     ]
    }
   ],
   "source": [
    "# show additional information - total Null, NaN, and Empty Values\n",
    "null_values = df_mercury_luzon.select([count(when(col(c).isNull(), c)).alias(c) for c in df_mercury_luzon.columns])\n",
    "nan_values = df_mercury_luzon.select([count(when(isnan(c), c)).alias(c) for c in df_mercury_luzon.columns])\n",
    "empty_values = df_mercury_luzon.select([count(when(col(c) == \"\", c)).alias(c) for c in df_mercury_luzon.columns])\n",
    "\n",
    "append = null_values.union(nan_values).union(empty_values)\n",
    "append.show()"
   ]
  },
  {
   "cell_type": "code",
   "execution_count": 32,
   "metadata": {},
   "outputs": [
    {
     "name": "stdout",
     "output_type": "stream",
     "text": [
      "+---+--------------------+--------------------+\n",
      "|Row|             Address|             Contact|\n",
      "+---+--------------------+--------------------+\n",
      "|  1|Partelo St. Zone ...|(074) 752-8152 / ...|\n",
      "|  2|Taft Ave. Zone V ...|(074) 752-5852 / ...|\n",
      "|  3|SSBF Bldg. Mora S...|                  ()|\n",
      "|  4|Bicol University ...|(052) 483-4151 / ...|\n",
      "|  5|Ayala Malls Legaz...|       (052) 2010464|\n",
      "|  6|GTS Bldg., Rizal ...|      (052) 480-5129|\n",
      "|  7|Del Rosario Bldg....|      (052) 480-5136|\n",
      "|  8|Rivero Bldg., Was...|      (052) 481-0988|\n",
      "|  9|McKinley St., Pur...|      (052) 485-1150|\n",
      "| 10|LCC Mall Polangui...|                  ()|\n",
      "| 11|Ubaliw, Polangui ...|      (052) 486-1150|\n",
      "| 12|Ziga Ave. cor. Bo...|(052) 487-7010 / ...|\n",
      "| 13|Quezon St. Baler ...|(042) 722-0008 / ...|\n",
      "| 14|Paterno St. Balan...|(047) 237-5269 / ...|\n",
      "| 15|Public Market Bal...|(047) 791-1818 / ...|\n",
      "| 16|Rizal St. Balanga...|(047) 237-5270 / ...|\n",
      "| 17|Roman Superhway T...|      (047) 633-3658|\n",
      "| 18|G/F WBLN 042 Walt...|                  ()|\n",
      "| 19|Public Market Nat...|      (047) 636-1126|\n",
      "| 20|DGDL Bldg. 17 Lak...|(047) 633-0560 / ...|\n",
      "+---+--------------------+--------------------+\n",
      "only showing top 20 rows\n",
      "\n"
     ]
    }
   ],
   "source": [
    "# remove name and store hours, trim properly the attributes in each column\n",
    "remove_columns_cleaning_mercury_luzon = spark.sql(\"\"\"\n",
    "    WITH first_trim AS (\n",
    "        SELECT \n",
    "            ROW_NUMBER() OVER (ORDER BY (SELECT 1)) AS Row,\n",
    "            REPLACE(Address, \"\\n\", \"\") AS Address,\n",
    "            REPLACE(Phone, \"\\n\", \"\") AS Contact\n",
    "        FROM mercury_luzon\n",
    "    ), second_trim AS (\n",
    "        SELECT \n",
    "            Row,\n",
    "            REPLACE(REPLACE(REPLACE(REPLACE(TRIM(Address),\"  \", \" \"), \"  \", \" \"),\"  \", \" \"), \"- \", \"\") As Address,\n",
    "            TRIM(Contact) AS Contact\n",
    "        FROM first_trim\n",
    "    )\n",
    "    SELECT * \n",
    "    FROM second_trim\n",
    "\"\"\")\n",
    "\n",
    "# final inspection for mercury - luzon\n",
    "cleaned_mercury_luzon = remove_columns_cleaning_mercury_luzon \n",
    "cleaned_mercury_luzon.show()"
   ]
  },
  {
   "cell_type": "markdown",
   "metadata": {},
   "source": [
    "#### TRANSFORM mercury drugs - visayas"
   ]
  },
  {
   "cell_type": "code",
   "execution_count": 33,
   "metadata": {},
   "outputs": [
    {
     "name": "stdout",
     "output_type": "stream",
     "text": [
      "+--------------------+--------------------+--------------------+--------------------+\n",
      "|                Name|             Address|               Phone|         Store Hours|\n",
      "+--------------------+--------------------+--------------------+--------------------+\n",
      "|    Ibajay Poblacion|\\n Sia-Chan Lek B...|\\n (036) 289-2774...|\\n 7:00 AM - 8:00...|\n",
      "|      Kalibo Andagao|\\n La Estrella Bl...|\\n (036) 268-4401...|\\n 7:00 AM - 9:00...|\n",
      "|Kalibo Archbishop...|\\n               ...|\\n (036) 268-4123...|\\n 7:00 AM - 9:00...|\n",
      "|      Kalibo Barrios|\\n Roxas Ave.cor....|\\n (036) 268-6316...|\\n 7:00 AM - 9:30...|\n",
      "|       Kalibo Mabini|\\n Mabini St. \\n ...|\\n (036) 500-7899...|\\n 8:00 AM - 10:0...|\n",
      "|        Kalibo Roxas|\\n Roxas Ave. Ext...|\\n (036) 268-5143...|\\n 7:00 AM - 8:00...|\n",
      "|Malay Caticlan Je...|\\n   \\n  Jetty Po...|\\n (036) 288-7629...|\\n 7:00 AM - 9:00...|\n",
      "|Culasi Centro Pob...|\\n Godo Yap Bldg....|\\n (036) 277-8718...|\\n 7:00 AM - 8:00...|\n",
      "|San Jose De Buena...|\\n  Tobias Fornie...|\\n (036) 540-9727...|\\n 7:00 AM - 9:00...|\n",
      "|San Jose De Buena...|\\n               ...|\\n (036) 641-6043...|\\n 7:00 AM - 8:00...|\n",
      "|San Jose De Buena...|\\n Aguillon Busin...|\\n ( )     \\n / (...|\\n 7:00 AM - 9:00...|\n",
      "|San Jose De Buena...|\\n Gov. Villavert...|\\n (036) 540-8048...|\\n Temp. - Closed...|\n",
      "|   Sibalom Poblacion|\\n HPL bldg. \\n V...|\\n (  )     \\n / ...|\\n 7:00 AM - 8:00...|\n",
      "|     Naval Poblacion|\\n      \\n P. Ino...|\\n (   ) \\n / (05...|\\n 6:00 AM - 9:00...|\n",
      "|        Jagna Pagina|\\n     \\n Sta. Cr...|\\n (038) 238-3182...|\\n 7:00 AM - 9:00...|\n",
      "|Tagbilaran City C...|\\n J.A Clarin St....|\\n (038) 412-0951...|\\n 7:00 AM - 8:30...|\n",
      "|Tagbilaran City C...|\\n B. Inting St. ...|\\n (038) 411-3087...|\\n 7:00 AM - 9:00...|\n",
      "|Tagbilaran City M...|\\n          \\n C....|\\n (038) 411-1365...|\\n 7:00 AM - 9:00...|\n",
      "|Tagbilaran City P...|\\n               ...|\\n (038) 4120229\\...|\\n 7:00 AM - 8:00...|\n",
      "|    Talibon San Jose|\\n            \\n ...|\\n (   )         ...|\\n 7:00 AM - 8:00...|\n",
      "+--------------------+--------------------+--------------------+--------------------+\n",
      "only showing top 20 rows\n",
      "\n"
     ]
    }
   ],
   "source": [
    "# quick inspection of mercury drugs - visayas' dataframe\n",
    "df_mercury_visayas.createOrReplaceTempView(\"mercury_visayas\")\n",
    "initial_inspect = spark.sql(\"\"\"\n",
    "    SELECT  *\n",
    "    FROM mercury_visayas\n",
    "\"\"\")\n",
    "\n",
    "initial_inspect.show(20)"
   ]
  },
  {
   "cell_type": "code",
   "execution_count": 34,
   "metadata": {},
   "outputs": [
    {
     "name": "stdout",
     "output_type": "stream",
     "text": [
      "+----+-------+-----+-----------+\n",
      "|Name|Address|Phone|Store Hours|\n",
      "+----+-------+-----+-----------+\n",
      "|   0|      0|    0|          0|\n",
      "|   0|      0|    0|          0|\n",
      "|   0|      0|    0|          0|\n",
      "+----+-------+-----+-----------+\n",
      "\n"
     ]
    }
   ],
   "source": [
    "# show additional information - total Null, NaN, and Empty Values\n",
    "null_values = df_mercury_visayas.select([count(when(col(c).isNull(), c)).alias(c) for c in df_mercury_visayas.columns])\n",
    "nan_values = df_mercury_visayas.select([count(when(isnan(c), c)).alias(c) for c in df_mercury_visayas.columns])\n",
    "empty_values = df_mercury_visayas.select([count(when(col(c) == \"\", c)).alias(c) for c in df_mercury_visayas.columns])\n",
    "\n",
    "append = null_values.union(nan_values).union(empty_values)\n",
    "append.show()"
   ]
  },
  {
   "cell_type": "code",
   "execution_count": 35,
   "metadata": {},
   "outputs": [
    {
     "name": "stdout",
     "output_type": "stream",
     "text": [
      "+---+--------------------+--------------------+\n",
      "|Row|             Address|             Contact|\n",
      "+---+--------------------+--------------------+\n",
      "|  1|Sia-Chan Lek Bldg...|(036) 289-2774 / ...|\n",
      "|  2|La Estrella Bldg....|(036) 268-4401 / ...|\n",
      "|  3|Archbishop Reyes ...|(036) 268-4123 / ...|\n",
      "|  4|Roxas Ave.cor. L....|(036) 268-6316 / ...|\n",
      "|  5|Mabini St. Kalibo...|(036) 500-7899 / ...|\n",
      "|  6|Roxas Ave. Ext. K...|(036) 268-5143 / ...|\n",
      "|  7|Jetty Port , Cati...|(036) 288-7629 / ...|\n",
      "|  8|Godo Yap Bldg. Na...|(036) 277-8718 / ...|\n",
      "|  9|Tobias Fornier St...|(036) 540-9727 / ...|\n",
      "| 10|Emigdio Nietes Av...|(036) 641-6043 / ...|\n",
      "| 11|Aguillon Business...|( ) / (036) 64100...|\n",
      "| 12|Gov. Villavert St...|(036) 540-8048 / ...|\n",
      "| 13|HPL bldg. Venegas...|( ) / (036) 543-8...|\n",
      "| 14|P. Inocentes St. ...|( ) / (053) 500-3...|\n",
      "| 15|Sta. Cruz St. Pag...|(038) 238-3182 / ...|\n",
      "| 16|J.A Clarin St. Co...|(038) 412-0951 / ...|\n",
      "| 17|B. Inting St. cor...|(038) 411-3087 / ...|\n",
      "| 18|C.P. Garcia North...|(038) 411-1365 / ...|\n",
      "| 19|83 J.A. Clarin St...|(038) 4120229 / (...|\n",
      "| 20|Carlos P. Garcia ...|( ) / (038) 544-0...|\n",
      "+---+--------------------+--------------------+\n",
      "only showing top 20 rows\n",
      "\n"
     ]
    }
   ],
   "source": [
    "# remove name and store hours, trim properly the attributes in each column\n",
    "remove_columns_cleaning_mercury_visayas = spark.sql(\"\"\"\n",
    "    WITH first_trim AS (\n",
    "        SELECT \n",
    "            ROW_NUMBER() OVER (ORDER BY (SELECT 1)) AS Row,\n",
    "            REPLACE(Address, \"\\n\", \"\") AS Address,\n",
    "            REPLACE(Phone, \"\\n\", \"\") AS Contact\n",
    "        FROM mercury_visayas\n",
    "    ), second_trim AS (\n",
    "        SELECT \n",
    "            Row,\n",
    "            REPLACE(REPLACE(REPLACE(REPLACE(TRIM(Address),\"  \", \" \"), \"  \", \" \"),\"  \", \" \"), \"- \", \"\") AS Address,\n",
    "            REPLACE(REPLACE(REPLACE(REPLACE(TRIM(Contact),\"  \", \" \"), \"  \", \" \"),\"  \", \" \"),\"  \", \" \") AS Contact\n",
    "        FROM first_trim\n",
    "    )\n",
    "    SELECT * \n",
    "    FROM second_trim\n",
    "\"\"\")\n",
    "\n",
    "# final inspection for mercury - visayas\n",
    "cleaned_mercury_visayas = remove_columns_cleaning_mercury_visayas \n",
    "cleaned_mercury_visayas.show()"
   ]
  },
  {
   "cell_type": "markdown",
   "metadata": {},
   "source": [
    "#### TRANSFORM mercury drugs - mindanao"
   ]
  },
  {
   "cell_type": "code",
   "execution_count": 36,
   "metadata": {},
   "outputs": [
    {
     "name": "stdout",
     "output_type": "stream",
     "text": [
      "+--------------------+--------------------+--------------------+--------------------+\n",
      "|                Name|             Address|               Phone|         Store Hours|\n",
      "+--------------------+--------------------+--------------------+--------------------+\n",
      "|Butuan  City Satorre|\\n    \\n Jorge Sa...|\\n (085) 341-4024...|\\n 7:00 AM - 10:0...|\n",
      "|  Butuan City Curato|\\n A.D. Curato St...|\\n (085) 815-1855...|\\n 7:00 AM - 10:0...|\n",
      "|Butuan City J.C. ...|\\n          \\n J....|\\n (085) 815-6457...|\\n 7:00 AM - 10:0...|\n",
      "|Butuan City Libertad|\\n Helen Dy Bldg....|\\n (085) 341-7009...|\\n 7:00 AM - 9:00...|\n",
      "|Butuan City Monti...|\\n Montilla Blvd....|\\n (085) 342-6888...|\\n 8:00 AM - 10:0...|\n",
      "|Butuan City Robin...|\\n Robinsons Plac...|\\n (085) 815-0758...|\\n 10:00 AM - 9:0...|\n",
      "|Butuan City South...|\\n South Blvd. Sq...|\\n (085) 341-3928...|\\n 7:00 AM - 10:0...|\n",
      "|Cabadbaran City N...|\\n Nat'l Hway  \\n...|\\n (085) 818-2323...|\\n 7:00 AM - 8:00...|\n",
      "|Bayugan City Gais...|\\n Unit No. BYN-G...|   \\n (   )      \\n |\\n 7:00 AM - 7:00...|\n",
      "|  Bayugan City Narra|\\n            \\n ...|\\n (085) 830-5535...|\\n 7:00 AM - 8:00...|\n",
      "|Bayugan City Nat'...|\\n None   \\n Nat'...|\\n (085) 343-6988...|\\n 7:00 AM - 8:00...|\n",
      "|San Francisco Gai...|\\n Gaisano Grand ...|\\n (085) 839-5631...|\\n 7:00 AM - 7:00...|\n",
      "|San Francisco Nat...|\\n         \\n Nat...|\\n (085) 343-8134...|\\n 7:00 AM - 7:00...|\n",
      "| San Francisco Roxas|\\n None   \\n Roxa...|\\n (085) 839-3410...|\\n 7:00 AM - 7:00...|\n",
      "|    Trento Poblacion|\\n Nat'l Hway \\n ...|\\n (085) 255-2930...|\\n 7:00 AM - 9:00...|\n",
      "|Malaybalay City F...|\\n Fortich St. \\n...|\\n (088) 221-2129...|\\n 7:00 AM - 9:00...|\n",
      "|Malaybalay City S...|\\n Sebastian St. ...|\\n (088) 813-4800...|\\n 7:00 AM - 9:00...|\n",
      "|Maramag South Pob...|\\n W.G. Bldg. \\n ...|\\n (088)  828-399...|\\n 7:00 AM - 8:00...|\n",
      "|Valencia City Mag...|\\n Magsaysay St. ...|\\n (088) 828-0221...|\\n 7:00 AM - 9:00...|\n",
      "|Valencia City ML ...|\\n G. Lavinia Ave...|\\n (088) 222-2154...|\\n 7:00 AM - 9:00...|\n",
      "+--------------------+--------------------+--------------------+--------------------+\n",
      "only showing top 20 rows\n",
      "\n"
     ]
    }
   ],
   "source": [
    "# quick inspection of mercury drugs - mindanao' dataframe\n",
    "df_mercury_mindanao.createOrReplaceTempView(\"mercury_mindanao\")\n",
    "initial_inspect = spark.sql(\"\"\"\n",
    "    SELECT  *\n",
    "    FROM mercury_mindanao\n",
    "\"\"\")\n",
    "\n",
    "initial_inspect.show(20)"
   ]
  },
  {
   "cell_type": "code",
   "execution_count": 37,
   "metadata": {},
   "outputs": [
    {
     "name": "stdout",
     "output_type": "stream",
     "text": [
      "+----+-------+-----+-----------+\n",
      "|Name|Address|Phone|Store Hours|\n",
      "+----+-------+-----+-----------+\n",
      "|   0|      0|    0|          0|\n",
      "|   0|      0|    0|          0|\n",
      "|   0|      0|    0|          0|\n",
      "+----+-------+-----+-----------+\n",
      "\n"
     ]
    }
   ],
   "source": [
    "# show additional information - total Null, NaN, and Empty Values\n",
    "null_values = df_mercury_visayas.select([count(when(col(c).isNull(), c)).alias(c) for c in df_mercury_visayas.columns])\n",
    "nan_values = df_mercury_visayas.select([count(when(isnan(c), c)).alias(c) for c in df_mercury_visayas.columns])\n",
    "empty_values = df_mercury_visayas.select([count(when(col(c) == \"\", c)).alias(c) for c in df_mercury_visayas.columns])\n",
    "\n",
    "append = null_values.union(nan_values).union(empty_values)\n",
    "append.show()"
   ]
  },
  {
   "cell_type": "code",
   "execution_count": 38,
   "metadata": {},
   "outputs": [
    {
     "name": "stdout",
     "output_type": "stream",
     "text": [
      "+---+--------------------+--------------------+\n",
      "|Row|             Address|             Contact|\n",
      "+---+--------------------+--------------------+\n",
      "|  1|Jorge Satorre St....|(085) 341-4024 / ...|\n",
      "|  2|A.D. Curato St. B...|(085) 815-1855 / ...|\n",
      "|  3|J.C. Aquino Ave. ...|(085) 815-6457 / ...|\n",
      "|  4|Helen Dy Bldg. Na...|(085) 341-7009 / ...|\n",
      "|  5|Montilla Blvd. co...|(085) 342-6888 / ...|\n",
      "|  6|Robinsons Place B...|(085) 815-0758 / ...|\n",
      "|  7|South Blvd. Squar...|(085) 341-3928 / ...|\n",
      "|  8|Nat'l Hway Cabadb...|(085) 818-2323 / ...|\n",
      "|  9|Unit No. BYN-GPS-...|                 ( )|\n",
      "| 10|Narra Ave. cor. C...|(085) 830-5535 / ...|\n",
      "| 11|None Nat'l Hway P...|(085) 343-6988 / ...|\n",
      "| 12|Gaisano Grand Mal...|(085) 839-5631 / ...|\n",
      "| 13|Nat'l Hway Purok ...|(085) 343-8134 / ...|\n",
      "| 14|None Roxas St. Sa...|(085) 839-3410 / ...|\n",
      "| 15|Nat'l Hway Poblac...|(085) 255-2930 / ...|\n",
      "| 16|Fortich St. Malay...|(088) 221-2129 / ...|\n",
      "| 17|Sebastian St. cor...|(088) 813-4800 / ...|\n",
      "| 18|W.G. Bldg. Purok ...|(088) 828-3997 / ...|\n",
      "| 19|Magsaysay St. cor...|(088) 828-0221 / ...|\n",
      "| 20|G. Lavinia Ave.co...|(088) 222-2154 / ...|\n",
      "+---+--------------------+--------------------+\n",
      "only showing top 20 rows\n",
      "\n"
     ]
    }
   ],
   "source": [
    "# remove name and store hours, trim properly the attributes in each column\n",
    "remove_columns_cleaning_mercury_mindanao = spark.sql(\"\"\"\n",
    "    WITH first_trim AS (\n",
    "        SELECT \n",
    "            ROW_NUMBER() OVER (ORDER BY (SELECT 1)) AS Row,\n",
    "            REPLACE(Address, \"\\n\", \"\") AS Address,\n",
    "            REPLACE(Phone, \"\\n\", \"\") AS Contact\n",
    "        FROM mercury_mindanao\n",
    "    ), second_trim AS (\n",
    "        SELECT \n",
    "            Row,\n",
    "            REPLACE(REPLACE(REPLACE(REPLACE(TRIM(Address),\"  \", \" \"), \"  \", \" \"),\"  \", \" \"), \"- \", \"\") AS Address,\n",
    "            REPLACE(REPLACE(REPLACE(REPLACE(TRIM(Contact),\"  \", \" \"), \"  \", \" \"),\"  \", \" \"),\"  \", \" \") AS Contact\n",
    "        FROM first_trim\n",
    "    )\n",
    "    SELECT * \n",
    "    FROM second_trim\n",
    "\"\"\")\n",
    "\n",
    "# final inspection for mercury - mindanao\n",
    "cleaned_mercury_mindanao = remove_columns_cleaning_mercury_mindanao\n",
    "cleaned_mercury_mindanao.show()"
   ]
  },
  {
   "cell_type": "markdown",
   "metadata": {},
   "source": [
    "#### TRANSFORM mercury drugs - metro manila"
   ]
  },
  {
   "cell_type": "code",
   "execution_count": 39,
   "metadata": {},
   "outputs": [
    {
     "name": "stdout",
     "output_type": "stream",
     "text": [
      "+--------------------+--------------------+--------------------+--------------------+\n",
      "|                Name|             Address|               Phone|         Store Hours|\n",
      "+--------------------+--------------------+--------------------+--------------------+\n",
      "|Kalookan City 11t...|\\n    \\n Rizal Av...|\\n (02) 8-366-177...|\\n 6:00 AM - 10:0...|\n",
      "|Kalookan City 5th...|\\n Rizal Ave. Ext...|\\n (02) 8-361-799...|\\n 6:00 AM - 8:00...|\n",
      "|Kalookan City 9th...|\\n Aurelio Bldg. ...|\\n (02) 8-361-120...|\\n 6:00 AM - 9:00...|\n",
      "|Kalookan City Bag...|\\n Ph 2 Blk 2 L3 ...|\\n (02) 8-962-371...|\\n 6:00 AM - 8:00...|\n",
      "|Kalookan City Ban...|\\n     \\n Blk 2 L...|\\n (02) 8-330-450...|\\n 6:00 AM - 8:00...|\n",
      "|   Kalookan City C-3|\\n    \\n A. Mabin...|\\n (02) 8-285-946...|\\n 6:00 AM - 10:0...|\n",
      "|Kalookan City Cam...|\\n 2194 \\n Zapote...|\\n (02) 8-961-162...|\\n 6:00 AM - 8:00...|\n",
      "| Kalookan City iMall|\\n iMall Camarin ...|\\n (02) 8-542 865...|\\n 6:00 AM - 9:00...|\n",
      "|Kalookan City Kay...|\\n 13 Gen. Luis S...|\\n (02) 8-983-997...|\\n 6:00 AM - 8:00...|\n",
      "|Kalookan City May...|\\n    \\n J.P. Riz...|\\n (02) 8-285-948...|\\n 6:00 AM - 8:00...|\n",
      "|Kalookan City Mon...|\\n    \\n Bonifaci...|\\n (02) 8-361-666...|   \\nOpen 24 Hours\\n|\n",
      "| Kalookan City Plaza|\\n    \\n A. Mabin...|\\n (02) 8-288-003...|   \\nOpen 24 Hours\\n|\n",
      "|Kalookan City Samson|\\n 1282 Samson Rd...|\\n (02) 8-364-239...|\\n 6:00 AM - 8:00...|\n",
      "|Kalookan City Sam...|\\n Puregold Kaloo...|\\n (02) 8-709-679...|\\n 6:00 AM - 8:00...|\n",
      "|Kalookan City San...|\\n 78 Gen. San Mi...|\\n (02) 8-285-646...|\\n 6:00 AM - 8:00...|\n",
      "| Kalookan City Vicas|\\n People's Place...|\\n (02) 8-287 120...|\\n 6:00 AM - 9:00...|\n",
      "|Kalookan City Zab...|\\n Zabarte Town C...|\\n (02) 8-962-396...|\\n 6:00 AM - 8:00...|\n",
      "|Las Pinas City Al...|\\n    \\n Alabang ...|\\n (02) 8-800-074...|   \\nOpen 24 Hours\\n|\n",
      "|Las Pinas City BF...|\\n 12 J.B. Tan St...|\\n (02) 8-808-821...|\\n 6:00 AM - 10:0...|\n",
      "|Las Pinas City Ca...|\\n Casimiro Comm'...|\\n (02) 8-822-058...|\\n 6:00 AM - 10:0...|\n",
      "+--------------------+--------------------+--------------------+--------------------+\n",
      "only showing top 20 rows\n",
      "\n"
     ]
    }
   ],
   "source": [
    "# quick inspection of mercury drugs - mindanao' dataframe\n",
    "df_mercury_metro_manila.createOrReplaceTempView(\"mercury_metro_manila\")\n",
    "initial_inspect = spark.sql(\"\"\"\n",
    "    SELECT  *\n",
    "    FROM mercury_metro_manila\n",
    "\"\"\")\n",
    "\n",
    "initial_inspect.show(20)"
   ]
  },
  {
   "cell_type": "code",
   "execution_count": 40,
   "metadata": {},
   "outputs": [
    {
     "name": "stdout",
     "output_type": "stream",
     "text": [
      "+----+-------+-----+-----------+\n",
      "|Name|Address|Phone|Store Hours|\n",
      "+----+-------+-----+-----------+\n",
      "|   0|      0|    0|          0|\n",
      "|   0|      0|    0|          0|\n",
      "|   0|      0|    0|          0|\n",
      "+----+-------+-----+-----------+\n",
      "\n"
     ]
    }
   ],
   "source": [
    "# show additional information - total Null, NaN, and Empty Values\n",
    "null_values = df_mercury_visayas.select([count(when(col(c).isNull(), c)).alias(c) for c in df_mercury_visayas.columns])\n",
    "nan_values = df_mercury_visayas.select([count(when(isnan(c), c)).alias(c) for c in df_mercury_visayas.columns])\n",
    "empty_values = df_mercury_visayas.select([count(when(col(c) == \"\", c)).alias(c) for c in df_mercury_visayas.columns])\n",
    "\n",
    "append = null_values.union(nan_values).union(empty_values)\n",
    "append.show()"
   ]
  },
  {
   "cell_type": "code",
   "execution_count": 41,
   "metadata": {},
   "outputs": [
    {
     "name": "stdout",
     "output_type": "stream",
     "text": [
      "+---+--------------------+--------------------+\n",
      "|Row|             Address|             Contact|\n",
      "+---+--------------------+--------------------+\n",
      "|  1|Rizal Ave. Ext. c...|(02) 8-366-1774 /...|\n",
      "|  2|Rizal Ave. Ext. b...|(02) 8-361-7994 /...|\n",
      "|  3|Aurelio Bldg. Riz...|(02) 8-361-1206 /...|\n",
      "|  4|Ph 2 Blk 2 L3 Bag...|(02) 8-962-3712 /...|\n",
      "|  5|Blk 2 L11, Quirin...|(02) 8-330-4509 /...|\n",
      "|  6|A. Mabini St. cor...|(02) 8-285-9463 /...|\n",
      "|  7|2194 Zapote St. c...|(02) 8-961-1620 /...|\n",
      "|  8|iMall Camarin Cam...|(02) 8-542 8659 /...|\n",
      "|  9|13 Gen. Luis St. ...|(02) 8-983-9975 /...|\n",
      "| 10|J.P. Rizal St. co...|(02) 8-285-9488 /...|\n",
      "| 11|Bonifacio Monumen...|(02) 8-361-6660 /...|\n",
      "| 12|A. Mabini St. cor...|(02) 8-288-0032 /...|\n",
      "| 13|1282 Samson Rd. B...|(02) 8-364-2393 /...|\n",
      "| 14|Puregold Kalookan...|(02) 8-709-6793 /...|\n",
      "| 15|78 Gen. San Migue...|(02) 8-285-6461 /...|\n",
      "| 16|People's Place Bl...|(02) 8-287 1209 /...|\n",
      "| 17|Zabarte Town Cent...|(02) 8-962-3967 /...|\n",
      "| 18|Alabang Zapote Rd...|(02) 8-800-0742 /...|\n",
      "| 19|12 J.B. Tan St. B...|(02) 8-808-8213 /...|\n",
      "| 20|Casimiro Comm'l B...|(02) 8-822-0589 /...|\n",
      "+---+--------------------+--------------------+\n",
      "only showing top 20 rows\n",
      "\n"
     ]
    }
   ],
   "source": [
    "# remove name and store hours, trim properly the attributes in each column\n",
    "remove_columns_cleaning_mercury_metro_manila = spark.sql(\"\"\"\n",
    "    WITH first_trim AS (\n",
    "        SELECT \n",
    "            ROW_NUMBER() OVER (ORDER BY (SELECT 1)) AS Row,\n",
    "            REPLACE(Address, \"\\n\", \"\") AS Address,\n",
    "            REPLACE(Phone, \"\\n\", \"\") AS Contact\n",
    "        FROM mercury_metro_manila\n",
    "    ), second_trim AS (\n",
    "        SELECT \n",
    "            Row,\n",
    "            REPLACE(REPLACE(REPLACE(REPLACE(TRIM(Address),\"  \", \" \"), \"  \", \" \"),\"  \", \" \"), \"- \", \"\") AS Address,\n",
    "            REPLACE(REPLACE(REPLACE(REPLACE(TRIM(Contact),\"  \", \" \"), \"  \", \" \"),\"  \", \" \"),\"  \", \" \") AS Contact\n",
    "        FROM first_trim\n",
    "    )\n",
    "    SELECT * \n",
    "    FROM second_trim\n",
    "\"\"\")\n",
    "\n",
    "# final inspection for mercury - metro_manila\n",
    "cleaned_mercury_metro_manila = remove_columns_cleaning_mercury_metro_manila\n",
    "cleaned_mercury_metro_manila.show()"
   ]
  },
  {
   "cell_type": "markdown",
   "metadata": {},
   "source": [
    "#### Merge multiple mercury drugs dataframe"
   ]
  },
  {
   "cell_type": "code",
   "execution_count": 42,
   "metadata": {},
   "outputs": [
    {
     "name": "stdout",
     "output_type": "stream",
     "text": [
      "+---+--------------------+--------------------+-------------+\n",
      "|Row|             Address|             Contact|         Name|\n",
      "+---+--------------------+--------------------+-------------+\n",
      "|  1|Partelo St. Zone ...|(074) 752-8152 / ...|Mercury Drugs|\n",
      "|  2|Taft Ave. Zone V ...|(074) 752-5852 / ...|Mercury Drugs|\n",
      "|  3|SSBF Bldg. Mora S...|                  ()|Mercury Drugs|\n",
      "|  4|Bicol University ...|(052) 483-4151 / ...|Mercury Drugs|\n",
      "|  5|Ayala Malls Legaz...|       (052) 2010464|Mercury Drugs|\n",
      "+---+--------------------+--------------------+-------------+\n",
      "only showing top 5 rows\n",
      "\n",
      "root\n",
      " |-- Row: integer (nullable = false)\n",
      " |-- Address: string (nullable = true)\n",
      " |-- Contact: string (nullable = true)\n",
      " |-- Name: string (nullable = false)\n",
      "\n",
      "+---+-------+-------+----+\n",
      "|Row|Address|Contact|Name|\n",
      "+---+-------+-------+----+\n",
      "|  0|      0|      0|   0|\n",
      "|  0|      0|      0|   0|\n",
      "|  0|      0|      0|   0|\n",
      "+---+-------+-------+----+\n",
      "\n",
      "+-------+------------------+--------------------+--------------------+-------------+\n",
      "|summary|               Row|             Address|             Contact|         Name|\n",
      "+-------+------------------+--------------------+--------------------+-------------+\n",
      "|  count|              1239|                1239|                1239|         1239|\n",
      "|   mean|             620.0|                null|                null|         null|\n",
      "| stddev|357.81280021821465|                null|                null|         null|\n",
      "|    min|                 1|. Gen. T. De Leon...|                 ( )|Mercury Drugs|\n",
      "|    max|              1239|iMall Camarin Cam...|(8822) 745-092 / ...|Mercury Drugs|\n",
      "+-------+------------------+--------------------+--------------------+-------------+\n",
      "\n"
     ]
    }
   ],
   "source": [
    "# merge different dataframes \n",
    "cleaned_mercury = cleaned_mercury_luzon.union(cleaned_mercury_metro_manila).union(cleaned_mercury_visayas).union(cleaned_mercury_mindanao)\n",
    "cleaned_mercury.createOrReplaceTempView(\"cleaned_mercury\")\n",
    "cleaned_mercury = spark.sql(\"\"\"\n",
    "    SELECT CAST(ROW_NUMBER() OVER (ORDER BY (SELECT 1)) AS INTEGER) AS Row, Address, Contact\n",
    "    FROM cleaned_mercury\n",
    "\"\"\")\n",
    "\n",
    "# initial and final inspect since these data are already cleaned\n",
    "cleaned_mercury = cleaned_mercury.withColumn(\"Name\", lit(\"Mercury Drugs\"))\n",
    "cleaned_mercury.show(5)\n",
    "cleaned_mercury.printSchema()\n",
    "\n",
    "# show Null, NaN, and Empty Values\n",
    "null_values = cleaned_mercury.select([count(when(col(c).isNull(), c)).alias(c) for c in cleaned_mercury.columns])\n",
    "nan_values = cleaned_mercury.select([count(when(isnan(c), c)).alias(c) for c in cleaned_mercury.columns])\n",
    "empty_values = cleaned_mercury.select([count(when(col(c) == \"\", c)).alias(c) for c in cleaned_mercury.columns])\n",
    "append = null_values.union(nan_values).union(empty_values)\n",
    "append.show()\n",
    "\n",
    "# show basic statistics\n",
    "cleaned_mercury.describe().show()"
   ]
  },
  {
   "cell_type": "markdown",
   "metadata": {},
   "source": [
    "#### Transform south star drugs "
   ]
  },
  {
   "cell_type": "code",
   "execution_count": 43,
   "metadata": {},
   "outputs": [
    {
     "name": "stdout",
     "output_type": "stream",
     "text": [
      "+--------------------------------------------------------------------------+\n",
      "|Address_StoreHours_Phone_RemoveHrTag                                      |\n",
      "+--------------------------------------------------------------------------+\n",
      "|Ph 148-01 Metro Plaza Mall, Quirino Highway, Malaria, Caloocan City       |\n",
      "|Store Hours: 7:00AM - 9:00PM                                              |\n",
      "|<hr class=\"dashed\"/>                                                      |\n",
      "|Ground Floor Victory Central Mall, Caloocan City                          |\n",
      "|+632-82833778                                                             |\n",
      "|Store Hours:                                                              |\n",
      "|<hr class=\"dashed\"/>                                                      |\n",
      "|Phase 1 Package 1 Block 28 Lot 3638 Bagong Silang Caloocan City           |\n",
      "|+632-83722847                                                             |\n",
      "|Store Hours: 7:00AM-7:00PM                                                |\n",
      "|<hr class=\"dashed\"/>                                                      |\n",
      "|#1107 General San Miguel Sangandaan, Caloocan City                        |\n",
      "|+632-89617601                                                             |\n",
      "|Store Hours: 7:00AM-7:00PM                                                |\n",
      "|<hr class=\"dashed\"/>                                                      |\n",
      "|Ph1 Pkg3 B44 L33 Brgy 176 Zone 15, District 1 Bagong Silang, Caloocan City|\n",
      "|+63923-744-2165                                                           |\n",
      "|Store Hours: 7:00AM-7:00PM                                                |\n",
      "|<hr class=\"dashed\"/>                                                      |\n",
      "|G/F Lc G02, Barrio Road 171, Deparo Caloocan City                         |\n",
      "+--------------------------------------------------------------------------+\n",
      "only showing top 20 rows\n",
      "\n"
     ]
    }
   ],
   "source": [
    "# quick inspection of south star drugs - name's dataframe\n",
    "df_ssd_others.createOrReplaceTempView(\"ssd_others\")\n",
    "initial_inspect = spark.sql(\"\"\"\n",
    "    SELECT  *\n",
    "    FROM ssd_others\n",
    "\"\"\")\n",
    "\n",
    "initial_inspect.show(20, truncate=False)"
   ]
  },
  {
   "cell_type": "code",
   "execution_count": 44,
   "metadata": {},
   "outputs": [
    {
     "name": "stdout",
     "output_type": "stream",
     "text": [
      "+------------------------------------+\n",
      "|Address_StoreHours_Phone_RemoveHrTag|\n",
      "+------------------------------------+\n",
      "|                                   0|\n",
      "|                                   0|\n",
      "|                                   0|\n",
      "|                                   0|\n",
      "+------------------------------------+\n",
      "\n"
     ]
    }
   ],
   "source": [
    "# show additional information - total Null, NaN, and Empty Values\n",
    "null_values = df_ssd_others.select([count(when(col(c).isNull(), c)).alias(c) for c in df_ssd_others.columns])\n",
    "nan_values = df_ssd_others.select([count(when(isnan(c), c)).alias(c) for c in df_ssd_others.columns])\n",
    "empty_values = df_ssd_others.select([count(when(col(c) == \"\", c)).alias(c) for c in df_ssd_others.columns])\n",
    "zero_values = df_ssd_others.select([count(when(col(c) == \"0\", c)).alias(c) for c in df_ssd_others.columns])\n",
    "\n",
    "append = null_values.union(nan_values).union(empty_values).union(zero_values)\n",
    "append.show()"
   ]
  },
  {
   "cell_type": "code",
   "execution_count": 45,
   "metadata": {},
   "outputs": [],
   "source": [
    "# fix outlier - row 1949 and row 1950 should be merged \n",
    "remove_outlier_cleaning_ssd = spark.sql(\"\"\"\n",
    "    WITH create_row AS (\n",
    "        SELECT CAST(ROW_NUMBER() OVER (ORDER BY (SELECT 1)) AS INTEGER) AS Row, * \n",
    "        FROM ssd_others\n",
    "    ), remove_outlier AS (\n",
    "        SELECT CAST(ROW_NUMBER() OVER (ORDER BY (SELECT 1)) AS INTEGER) AS Row, Address_StoreHours_Phone_RemoveHrTag\n",
    "        FROM create_row \n",
    "        WHERE Row != 1950\n",
    "    )\n",
    "    SELECT \n",
    "        Row,\n",
    "        CASE\n",
    "            WHEN Row = 1949 THEN \"PH. 31101, Robinsons Supermarket Mactan, Mez 2, Pueblo Verde Subd., Brgy. Basak, Lapulapu City, Cecu\"\n",
    "            ELSE Address_StoreHours_Phone_RemoveHrTag\n",
    "        END as ssd_others\n",
    "    FROM remove_outlier\n",
    "    \n",
    "\"\"\")\n",
    "remove_outlier_cleaning_ssd.createOrReplaceTempView(\"remove_outlier_ssd\")\n",
    "\n",
    "# separate address, store hours, hr, and contact\n",
    "ssd_cleaning = spark.sql(\"\"\"\n",
    "    SELECT *\n",
    "    FROM remove_outlier_ssd\n",
    "    WHERE NOT ssd_others LIKE \"SSD%\"\n",
    "\"\"\")\n",
    "\n",
    "# 1. convert rows into list where you could iterate from -> iterate thru each of the rows if filtered_hr_tag is true then add empty row at current index - 2, reorder the row at every iteration\n",
    "ssd_row = ssd_cleaning.select(\"Row\").rdd.flatMap(lambda x: x).collect()\n",
    "ssd_other_info = ssd_cleaning.select(\"ssd_others\").rdd.flatMap(lambda x: x).collect()\n",
    "\n",
    "ssd_list = [list(x) for x in zip(ssd_row, ssd_other_info)]\n",
    "\n",
    "for row in ssd_list:\n",
    "    if (row[1] == '<hr class=\"dashed\"/>' or row[1] == '<br/>') and row[0] % 4 != 0:\n",
    "        new_empty_row = [row[0] - 1.5,\"0\"]\n",
    "        ssd_list.append(new_empty_row) \n",
    "        ssd_list.sort(key = lambda x: x[0])\n",
    "        for index,x in enumerate(ssd_list):\n",
    "            ssd_list[index][0] = index+1      \n",
    "            \n",
    "reordered_data_distribution_cleaning_ssd = spark.createDataFrame(ssd_list)\n",
    "reordered_data_distribution_cleaning_ssd.createOrReplaceTempView(\"reordered_data_ssd\")  \n",
    "\n",
    "pivot_ssd = spark.sql(\"\"\"\n",
    "    WITH reordering_data AS (\n",
    "        SELECT *,\n",
    "            CASE \n",
    "                WHEN _1 % 4 = 0 THEN 4\n",
    "                WHEN (_1 + 1) % 4 = 0 THEN 3\n",
    "                WHEN _1 % 2 = 0 THEN 2\n",
    "                WHEN (_1 + 3) % 4 = 0 THEN 1\n",
    "            END AS _3\n",
    "        FROM reordered_data_ssd\n",
    "    ), grab_address_contact AS (\n",
    "        SELECT \n",
    "            CASE\n",
    "                WHEN _3 = 1\n",
    "                THEN _2\n",
    "            END AS Address,\n",
    "            CASE\n",
    "                WHEN _3 = 2\n",
    "                THEN _2\n",
    "            END AS Contact,\n",
    "            _3\n",
    "        FROM reordering_data\n",
    "        WHERE `_3` != 3 AND `_3` != 4\n",
    "    ), select_address AS (\n",
    "        SELECT \n",
    "            CAST(ROW_NUMBER() OVER (ORDER BY (SELECT 1)) AS INTEGER) AS Row,\n",
    "            Address\n",
    "        FROM grab_address_contact\n",
    "        WHERE Address IS NOT NULL\n",
    "    ), select_contact AS (\n",
    "        SELECT \n",
    "            CAST(ROW_NUMBER() OVER (ORDER BY (SELECT 1)) AS INTEGER) AS Row,\n",
    "            Contact\n",
    "        FROM grab_address_contact\n",
    "        WHERE Contact IS NOT NULL\n",
    "    )\n",
    "    SELECT CAST(ROW_NUMBER() OVER (ORDER BY (SELECT 1)) AS INTEGER) AS Row, c1.Address, c2.Contact\n",
    "    FROM select_address AS c1, select_contact AS c2\n",
    "    WHERE c1.Row = c2.Row\n",
    "\"\"\")  \n",
    "\n",
    "cleaned_ssd = pivot_ssd\n",
    "cleaned_ssd = cleaned_ssd.withColumn(\"Name\", lit(\"South Star Drugs\"))"
   ]
  },
  {
   "cell_type": "code",
   "execution_count": 46,
   "metadata": {},
   "outputs": [
    {
     "name": "stdout",
     "output_type": "stream",
     "text": [
      "+---+--------------------+---------------+----------------+\n",
      "|Row|             Address|        Contact|            Name|\n",
      "+---+--------------------+---------------+----------------+\n",
      "|  1|Ph 148-01 Metro P...|              0|South Star Drugs|\n",
      "|  2|Ground Floor Vict...|  +632-82833778|South Star Drugs|\n",
      "|  3|Phase 1 Package 1...|  +632-83722847|South Star Drugs|\n",
      "|  4|#1107 General San...|  +632-89617601|South Star Drugs|\n",
      "|  5|Ph1 Pkg3 B44 L33 ...|+63923-744-2165|South Star Drugs|\n",
      "|  6|G/F Lc G02, Barri...|+63922-928-5112|South Star Drugs|\n",
      "|  7|Door 1 Rubetan Bl...|  +632-88087626|South Star Drugs|\n",
      "|  8|J. Aguilar Ave. P...|  +632-82734691|South Star Drugs|\n",
      "|  9|Gf Of Saver Mart ...|  +632-88695494|South Star Drugs|\n",
      "| 10|Ph 41601 G/F Robi...|  +632-88323837|South Star Drugs|\n",
      "| 11|Bf Resort Drive B...|  +632-88335354|South Star Drugs|\n",
      "| 12|Robinsons Superma...|  +632-82935438|South Star Drugs|\n",
      "| 13|#53 Women's Club ...|  +632-83724955|South Star Drugs|\n",
      "| 14|San Joaquin St., ...|  +632-85328778|South Star Drugs|\n",
      "| 15|At Reyes St. Cor ...|  +632-85310929|South Star Drugs|\n",
      "| 16|NUEVE DE PEBRERO,...|  +632-85316950|South Star Drugs|\n",
      "| 17|Barangka Drive Ne...|  +632-85345206|South Star Drugs|\n",
      "| 18|Freedom Plaza Lib...|  +632-85324206|South Star Drugs|\n",
      "| 19|404 Boni Ave., Ma...|  +632-85352579|South Star Drugs|\n",
      "| 20|Robinsons Superma...|  +632-84704876|South Star Drugs|\n",
      "+---+--------------------+---------------+----------------+\n",
      "only showing top 20 rows\n",
      "\n",
      "root\n",
      " |-- Row: integer (nullable = false)\n",
      " |-- Address: string (nullable = true)\n",
      " |-- Contact: string (nullable = true)\n",
      " |-- Name: string (nullable = false)\n",
      "\n",
      "+---+-------+-------+----+\n",
      "|Row|Address|Contact|Name|\n",
      "+---+-------+-------+----+\n",
      "|  0|      0|      0|   0|\n",
      "|  0|      0|      0|   0|\n",
      "|  0|      0|      0|   0|\n",
      "+---+-------+-------+----+\n",
      "\n",
      "+-------+-----------------+--------------------+--------------+----------------+\n",
      "|summary|              Row|             Address|       Contact|            Name|\n",
      "+-------+-----------------+--------------------+--------------+----------------+\n",
      "|  count|              553|                 553|           553|             553|\n",
      "|   mean|            277.0|                null|           0.0|            null|\n",
      "| stddev|159.7816218050958|                null|           0.0|            null|\n",
      "|    min|                1|# 174 Villonco St...|(035) 522-8502|South Star Drugs|\n",
      "|    max|              553|Zone 3, E. Angele...|63923-742-4453|South Star Drugs|\n",
      "+-------+-----------------+--------------------+--------------+----------------+\n",
      "\n"
     ]
    }
   ],
   "source": [
    "# final inspection for ssd\n",
    "cleaned_ssd.show()\n",
    "cleaned_ssd.printSchema()\n",
    "\n",
    "# show Null, NaN, and Empty Values\n",
    "null_values = cleaned_ssd.select([count(when(col(c).isNull(), c)).alias(c) for c in cleaned_ssd.columns])\n",
    "nan_values = cleaned_ssd.select([count(when(isnan(c), c)).alias(c) for c in cleaned_ssd.columns])\n",
    "empty_values = cleaned_ssd.select([count(when(col(c) == \"\", c)).alias(c) for c in cleaned_ssd.columns])\n",
    "append = null_values.union(nan_values).union(empty_values)\n",
    "append.show()\n",
    "\n",
    "# show basic statistics\n",
    "cleaned_ssd.describe().show()"
   ]
  },
  {
   "cell_type": "markdown",
   "metadata": {},
   "source": [
    "#### Merge all of the dataframes(branches) from multiple drugstores"
   ]
  },
  {
   "cell_type": "code",
   "execution_count": 47,
   "metadata": {},
   "outputs": [
    {
     "name": "stdout",
     "output_type": "stream",
     "text": [
      "+---+-------------+--------------------+--------------------+\n",
      "|Row|         Name|             Address|             Contact|\n",
      "+---+-------------+--------------------+--------------------+\n",
      "|  1|Mercury Drugs|Partelo St. Zone ...|(074) 752-8152 / ...|\n",
      "|  2|Mercury Drugs|Taft Ave. Zone V ...|(074) 752-5852 / ...|\n",
      "|  3|Mercury Drugs|SSBF Bldg. Mora S...|                  ()|\n",
      "|  4|Mercury Drugs|Bicol University ...|(052) 483-4151 / ...|\n",
      "|  5|Mercury Drugs|Ayala Malls Legaz...|       (052) 2010464|\n",
      "+---+-------------+--------------------+--------------------+\n",
      "only showing top 5 rows\n",
      "\n",
      "root\n",
      " |-- Row: integer (nullable = false)\n",
      " |-- Name: string (nullable = true)\n",
      " |-- Address: string (nullable = true)\n",
      " |-- Contact: string (nullable = true)\n",
      "\n",
      "+---+----+-------+-------+\n",
      "|Row|Name|Address|Contact|\n",
      "+---+----+-------+-------+\n",
      "|  0|   0|      0|      0|\n",
      "|  0|   0|      0|      0|\n",
      "|  0|   0|      0|      0|\n",
      "+---+----+-------+-------+\n",
      "\n",
      "+-------+-----------------+----------------+--------------------+--------------------+\n",
      "|summary|              Row|            Name|             Address|             Contact|\n",
      "+-------+-----------------+----------------+--------------------+--------------------+\n",
      "|  count|             5560|            5560|                5560|                5560|\n",
      "|   mean|           2780.5|            null|                null| 1.23242993715241E10|\n",
      "| stddev|1605.178079425042|            null|                null|7.158499296039001E10|\n",
      "|    min|                1|        Generika|# 10 Cases Boulev...|                #N/A|\n",
      "|    max|             5560|Watsons Pharmacy|space 2102A & 210...|       ‎0955-5660033|\n",
      "+-------+-----------------+----------------+--------------------+--------------------+\n",
      "\n"
     ]
    }
   ],
   "source": [
    "# merge different dataframes \n",
    "cleaned_drugstores = cleaned_mercury.union(cleaned_tgp).union(cleaned_rose).union(cleaned_generika).union(cleaned_ssd).union(cleaned_watsons)\n",
    "cleaned_drugstores.createOrReplaceTempView(\"cleaned_drugstores\")\n",
    "cleaned_drugstores = spark.sql(\"\"\"\n",
    "    SELECT CAST(ROW_NUMBER() OVER (ORDER BY (SELECT 1)) AS INTEGER) AS Row, Name, Address, Contact\n",
    "    FROM cleaned_drugstores\n",
    "\"\"\")\n",
    "\n",
    "# initial and final inspect since these data are already cleaned\n",
    "cleaned_drugstores.show(5)\n",
    "cleaned_drugstores.printSchema()\n",
    "\n",
    "# show Null, NaN, and Empty Values\n",
    "null_values = cleaned_drugstores.select([count(when(col(c).isNull(), c)).alias(c) for c in cleaned_drugstores.columns])\n",
    "nan_values = cleaned_drugstores.select([count(when(isnan(c), c)).alias(c) for c in cleaned_drugstores.columns])\n",
    "empty_values = cleaned_drugstores.select([count(when(col(c) == \"\", c)).alias(c) for c in cleaned_drugstores.columns])\n",
    "append = null_values.union(nan_values).union(empty_values)\n",
    "append.show()\n",
    "\n",
    "# show basic statistics\n",
    "cleaned_drugstores.describe().show()"
   ]
  },
  {
   "cell_type": "markdown",
   "metadata": {},
   "source": [
    "#### Convert data into parquet "
   ]
  },
  {
   "cell_type": "code",
   "execution_count": 48,
   "metadata": {},
   "outputs": [],
   "source": [
    "cleaned_mercury.write.mode('overwrite').parquet(\"../data/transformed-data/cleaned_mercury.parquet\")\n",
    "cleaned_watsons.write.mode('overwrite').parquet(\"../data/transformed-data/cleaned_watsons.parquet\")\n",
    "cleaned_tgp.write.mode('overwrite').parquet(\"../data/transformed-data/cleaned_tgp.parquet\")\n",
    "cleaned_ssd.write.mode('overwrite').parquet(\"../data/transformed-data/cleaned_ssd.parquet\")\n",
    "cleaned_rose.write.mode('overwrite').parquet(\"../data/transformed-data/cleaned_rose.parquet\")\n",
    "cleaned_generika.write.mode('overwrite').parquet(\"../data/transformed-data/cleaned_generika.parquet\")\n",
    "cleaned_drugstores.write.mode('overwrite').parquet(\"../data/transformed-data/cleaned_drugstores.parquet\")"
   ]
  },
  {
   "cell_type": "code",
   "execution_count": null,
   "metadata": {},
   "outputs": [],
   "source": []
  },
  {
   "cell_type": "code",
   "execution_count": null,
   "metadata": {},
   "outputs": [],
   "source": []
  }
 ],
 "metadata": {
  "interpreter": {
   "hash": "bfb4883d108fc92ac768439090a2e92bb9a1f760a54beeecfd6762b5dcd70fe3"
  },
  "kernelspec": {
   "display_name": "Python 3 (ipykernel)",
   "language": "python",
   "name": "python3"
  },
  "language_info": {
   "codemirror_mode": {
    "name": "ipython",
    "version": 3
   },
   "file_extension": ".py",
   "mimetype": "text/x-python",
   "name": "python",
   "nbconvert_exporter": "python",
   "pygments_lexer": "ipython3",
   "version": "3.10.0"
  }
 },
 "nbformat": 4,
 "nbformat_minor": 2
}
